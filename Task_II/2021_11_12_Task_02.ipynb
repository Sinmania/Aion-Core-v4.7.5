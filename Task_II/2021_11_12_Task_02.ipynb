{
  "nbformat": 4,
  "nbformat_minor": 0,
  "metadata": {
    "colab": {
      "name": "Project_3_Template.ipynb",
      "provenance": [],
      "collapsed_sections": []
    },
    "kernelspec": {
      "name": "python3",
      "display_name": "Python 3.9.5 64-bit"
    },
    "language_info": {
      "codemirror_mode": {
        "name": "ipython",
        "version": 3
      },
      "file_extension": ".py",
      "mimetype": "text/x-python",
      "name": "python",
      "nbconvert_exporter": "python",
      "pygments_lexer": "ipython3",
      "version": "3.9.5"
    },
    "interpreter": {
      "hash": "f9f85f796d01129d0dd105a088854619f454435301f6ffec2fea96ecbd9be4ac"
    },
    "widgets": {
      "application/vnd.jupyter.widget-state+json": {
        "9671cfb0a9814341988300be23d3f2e7": {
          "model_module": "@jupyter-widgets/controls",
          "model_name": "HBoxModel",
          "model_module_version": "1.5.0",
          "state": {
            "_view_name": "HBoxView",
            "_dom_classes": [],
            "_model_name": "HBoxModel",
            "_view_module": "@jupyter-widgets/controls",
            "_model_module_version": "1.5.0",
            "_view_count": null,
            "_view_module_version": "1.5.0",
            "box_style": "",
            "layout": "IPY_MODEL_ba188b7b9eed4f68b4643f22fb3e6c22",
            "_model_module": "@jupyter-widgets/controls",
            "children": [
              "IPY_MODEL_c4ae53f1a3c0473c8690cdd8552debba",
              "IPY_MODEL_63e663ec66e14c78b9189a38fedad459",
              "IPY_MODEL_262ad777924c4c0990ba428355d2563d"
            ]
          }
        },
        "ba188b7b9eed4f68b4643f22fb3e6c22": {
          "model_module": "@jupyter-widgets/base",
          "model_name": "LayoutModel",
          "model_module_version": "1.2.0",
          "state": {
            "_view_name": "LayoutView",
            "grid_template_rows": null,
            "right": null,
            "justify_content": null,
            "_view_module": "@jupyter-widgets/base",
            "overflow": null,
            "_model_module_version": "1.2.0",
            "_view_count": null,
            "flex_flow": null,
            "width": null,
            "min_width": null,
            "border": null,
            "align_items": null,
            "bottom": null,
            "_model_module": "@jupyter-widgets/base",
            "top": null,
            "grid_column": null,
            "overflow_y": null,
            "overflow_x": null,
            "grid_auto_flow": null,
            "grid_area": null,
            "grid_template_columns": null,
            "flex": null,
            "_model_name": "LayoutModel",
            "justify_items": null,
            "grid_row": null,
            "max_height": null,
            "align_content": null,
            "visibility": null,
            "align_self": null,
            "height": null,
            "min_height": null,
            "padding": null,
            "grid_auto_rows": null,
            "grid_gap": null,
            "max_width": null,
            "order": null,
            "_view_module_version": "1.2.0",
            "grid_template_areas": null,
            "object_position": null,
            "object_fit": null,
            "grid_auto_columns": null,
            "margin": null,
            "display": null,
            "left": null
          }
        },
        "c4ae53f1a3c0473c8690cdd8552debba": {
          "model_module": "@jupyter-widgets/controls",
          "model_name": "HTMLModel",
          "model_module_version": "1.5.0",
          "state": {
            "_view_name": "HTMLView",
            "style": "IPY_MODEL_9680460a0ac146cc9fd2a6c42357c17b",
            "_dom_classes": [],
            "description": "",
            "_model_name": "HTMLModel",
            "placeholder": "​",
            "_view_module": "@jupyter-widgets/controls",
            "_model_module_version": "1.5.0",
            "value": "",
            "_view_count": null,
            "_view_module_version": "1.5.0",
            "description_tooltip": null,
            "_model_module": "@jupyter-widgets/controls",
            "layout": "IPY_MODEL_81ec26ed19484ced81d758f4af1d4190"
          }
        },
        "63e663ec66e14c78b9189a38fedad459": {
          "model_module": "@jupyter-widgets/controls",
          "model_name": "FloatProgressModel",
          "model_module_version": "1.5.0",
          "state": {
            "_view_name": "ProgressView",
            "style": "IPY_MODEL_c73da06c16a040069e0ae1c1c8d2cbb8",
            "_dom_classes": [],
            "description": "",
            "_model_name": "FloatProgressModel",
            "bar_style": "success",
            "max": 9912422,
            "_view_module": "@jupyter-widgets/controls",
            "_model_module_version": "1.5.0",
            "value": 9912422,
            "_view_count": null,
            "_view_module_version": "1.5.0",
            "orientation": "horizontal",
            "min": 0,
            "description_tooltip": null,
            "_model_module": "@jupyter-widgets/controls",
            "layout": "IPY_MODEL_c0aad41b9ce246849a431dc2c2a9c9d8"
          }
        },
        "262ad777924c4c0990ba428355d2563d": {
          "model_module": "@jupyter-widgets/controls",
          "model_name": "HTMLModel",
          "model_module_version": "1.5.0",
          "state": {
            "_view_name": "HTMLView",
            "style": "IPY_MODEL_12cbe028f04e42a59df63c31e2fbfc3e",
            "_dom_classes": [],
            "description": "",
            "_model_name": "HTMLModel",
            "placeholder": "​",
            "_view_module": "@jupyter-widgets/controls",
            "_model_module_version": "1.5.0",
            "value": " 9913344/? [00:00&lt;00:00, 37314417.66it/s]",
            "_view_count": null,
            "_view_module_version": "1.5.0",
            "description_tooltip": null,
            "_model_module": "@jupyter-widgets/controls",
            "layout": "IPY_MODEL_59311ffed4084eb7803715d7f26285e5"
          }
        },
        "9680460a0ac146cc9fd2a6c42357c17b": {
          "model_module": "@jupyter-widgets/controls",
          "model_name": "DescriptionStyleModel",
          "model_module_version": "1.5.0",
          "state": {
            "_view_name": "StyleView",
            "_model_name": "DescriptionStyleModel",
            "description_width": "",
            "_view_module": "@jupyter-widgets/base",
            "_model_module_version": "1.5.0",
            "_view_count": null,
            "_view_module_version": "1.2.0",
            "_model_module": "@jupyter-widgets/controls"
          }
        },
        "81ec26ed19484ced81d758f4af1d4190": {
          "model_module": "@jupyter-widgets/base",
          "model_name": "LayoutModel",
          "model_module_version": "1.2.0",
          "state": {
            "_view_name": "LayoutView",
            "grid_template_rows": null,
            "right": null,
            "justify_content": null,
            "_view_module": "@jupyter-widgets/base",
            "overflow": null,
            "_model_module_version": "1.2.0",
            "_view_count": null,
            "flex_flow": null,
            "width": null,
            "min_width": null,
            "border": null,
            "align_items": null,
            "bottom": null,
            "_model_module": "@jupyter-widgets/base",
            "top": null,
            "grid_column": null,
            "overflow_y": null,
            "overflow_x": null,
            "grid_auto_flow": null,
            "grid_area": null,
            "grid_template_columns": null,
            "flex": null,
            "_model_name": "LayoutModel",
            "justify_items": null,
            "grid_row": null,
            "max_height": null,
            "align_content": null,
            "visibility": null,
            "align_self": null,
            "height": null,
            "min_height": null,
            "padding": null,
            "grid_auto_rows": null,
            "grid_gap": null,
            "max_width": null,
            "order": null,
            "_view_module_version": "1.2.0",
            "grid_template_areas": null,
            "object_position": null,
            "object_fit": null,
            "grid_auto_columns": null,
            "margin": null,
            "display": null,
            "left": null
          }
        },
        "c73da06c16a040069e0ae1c1c8d2cbb8": {
          "model_module": "@jupyter-widgets/controls",
          "model_name": "ProgressStyleModel",
          "model_module_version": "1.5.0",
          "state": {
            "_view_name": "StyleView",
            "_model_name": "ProgressStyleModel",
            "description_width": "",
            "_view_module": "@jupyter-widgets/base",
            "_model_module_version": "1.5.0",
            "_view_count": null,
            "_view_module_version": "1.2.0",
            "bar_color": null,
            "_model_module": "@jupyter-widgets/controls"
          }
        },
        "c0aad41b9ce246849a431dc2c2a9c9d8": {
          "model_module": "@jupyter-widgets/base",
          "model_name": "LayoutModel",
          "model_module_version": "1.2.0",
          "state": {
            "_view_name": "LayoutView",
            "grid_template_rows": null,
            "right": null,
            "justify_content": null,
            "_view_module": "@jupyter-widgets/base",
            "overflow": null,
            "_model_module_version": "1.2.0",
            "_view_count": null,
            "flex_flow": null,
            "width": null,
            "min_width": null,
            "border": null,
            "align_items": null,
            "bottom": null,
            "_model_module": "@jupyter-widgets/base",
            "top": null,
            "grid_column": null,
            "overflow_y": null,
            "overflow_x": null,
            "grid_auto_flow": null,
            "grid_area": null,
            "grid_template_columns": null,
            "flex": null,
            "_model_name": "LayoutModel",
            "justify_items": null,
            "grid_row": null,
            "max_height": null,
            "align_content": null,
            "visibility": null,
            "align_self": null,
            "height": null,
            "min_height": null,
            "padding": null,
            "grid_auto_rows": null,
            "grid_gap": null,
            "max_width": null,
            "order": null,
            "_view_module_version": "1.2.0",
            "grid_template_areas": null,
            "object_position": null,
            "object_fit": null,
            "grid_auto_columns": null,
            "margin": null,
            "display": null,
            "left": null
          }
        },
        "12cbe028f04e42a59df63c31e2fbfc3e": {
          "model_module": "@jupyter-widgets/controls",
          "model_name": "DescriptionStyleModel",
          "model_module_version": "1.5.0",
          "state": {
            "_view_name": "StyleView",
            "_model_name": "DescriptionStyleModel",
            "description_width": "",
            "_view_module": "@jupyter-widgets/base",
            "_model_module_version": "1.5.0",
            "_view_count": null,
            "_view_module_version": "1.2.0",
            "_model_module": "@jupyter-widgets/controls"
          }
        },
        "59311ffed4084eb7803715d7f26285e5": {
          "model_module": "@jupyter-widgets/base",
          "model_name": "LayoutModel",
          "model_module_version": "1.2.0",
          "state": {
            "_view_name": "LayoutView",
            "grid_template_rows": null,
            "right": null,
            "justify_content": null,
            "_view_module": "@jupyter-widgets/base",
            "overflow": null,
            "_model_module_version": "1.2.0",
            "_view_count": null,
            "flex_flow": null,
            "width": null,
            "min_width": null,
            "border": null,
            "align_items": null,
            "bottom": null,
            "_model_module": "@jupyter-widgets/base",
            "top": null,
            "grid_column": null,
            "overflow_y": null,
            "overflow_x": null,
            "grid_auto_flow": null,
            "grid_area": null,
            "grid_template_columns": null,
            "flex": null,
            "_model_name": "LayoutModel",
            "justify_items": null,
            "grid_row": null,
            "max_height": null,
            "align_content": null,
            "visibility": null,
            "align_self": null,
            "height": null,
            "min_height": null,
            "padding": null,
            "grid_auto_rows": null,
            "grid_gap": null,
            "max_width": null,
            "order": null,
            "_view_module_version": "1.2.0",
            "grid_template_areas": null,
            "object_position": null,
            "object_fit": null,
            "grid_auto_columns": null,
            "margin": null,
            "display": null,
            "left": null
          }
        },
        "6d23934a6910408b9978ca0743a32326": {
          "model_module": "@jupyter-widgets/controls",
          "model_name": "HBoxModel",
          "model_module_version": "1.5.0",
          "state": {
            "_view_name": "HBoxView",
            "_dom_classes": [],
            "_model_name": "HBoxModel",
            "_view_module": "@jupyter-widgets/controls",
            "_model_module_version": "1.5.0",
            "_view_count": null,
            "_view_module_version": "1.5.0",
            "box_style": "",
            "layout": "IPY_MODEL_51caf3eabb934af2a0903a6dd2cc99cc",
            "_model_module": "@jupyter-widgets/controls",
            "children": [
              "IPY_MODEL_a995467480924642827cada6dc3d5ee5",
              "IPY_MODEL_5e8ad3dcc6644a449336884778872ebe",
              "IPY_MODEL_43eca322ef4e47c58839bda5e6660792"
            ]
          }
        },
        "51caf3eabb934af2a0903a6dd2cc99cc": {
          "model_module": "@jupyter-widgets/base",
          "model_name": "LayoutModel",
          "model_module_version": "1.2.0",
          "state": {
            "_view_name": "LayoutView",
            "grid_template_rows": null,
            "right": null,
            "justify_content": null,
            "_view_module": "@jupyter-widgets/base",
            "overflow": null,
            "_model_module_version": "1.2.0",
            "_view_count": null,
            "flex_flow": null,
            "width": null,
            "min_width": null,
            "border": null,
            "align_items": null,
            "bottom": null,
            "_model_module": "@jupyter-widgets/base",
            "top": null,
            "grid_column": null,
            "overflow_y": null,
            "overflow_x": null,
            "grid_auto_flow": null,
            "grid_area": null,
            "grid_template_columns": null,
            "flex": null,
            "_model_name": "LayoutModel",
            "justify_items": null,
            "grid_row": null,
            "max_height": null,
            "align_content": null,
            "visibility": null,
            "align_self": null,
            "height": null,
            "min_height": null,
            "padding": null,
            "grid_auto_rows": null,
            "grid_gap": null,
            "max_width": null,
            "order": null,
            "_view_module_version": "1.2.0",
            "grid_template_areas": null,
            "object_position": null,
            "object_fit": null,
            "grid_auto_columns": null,
            "margin": null,
            "display": null,
            "left": null
          }
        },
        "a995467480924642827cada6dc3d5ee5": {
          "model_module": "@jupyter-widgets/controls",
          "model_name": "HTMLModel",
          "model_module_version": "1.5.0",
          "state": {
            "_view_name": "HTMLView",
            "style": "IPY_MODEL_7bc1f1e6f454403a97914962813e31e5",
            "_dom_classes": [],
            "description": "",
            "_model_name": "HTMLModel",
            "placeholder": "​",
            "_view_module": "@jupyter-widgets/controls",
            "_model_module_version": "1.5.0",
            "value": "",
            "_view_count": null,
            "_view_module_version": "1.5.0",
            "description_tooltip": null,
            "_model_module": "@jupyter-widgets/controls",
            "layout": "IPY_MODEL_ccf9a94696674a63a4cbd1894adbe27a"
          }
        },
        "5e8ad3dcc6644a449336884778872ebe": {
          "model_module": "@jupyter-widgets/controls",
          "model_name": "FloatProgressModel",
          "model_module_version": "1.5.0",
          "state": {
            "_view_name": "ProgressView",
            "style": "IPY_MODEL_385af475671f41a29d692fb82c596aa9",
            "_dom_classes": [],
            "description": "",
            "_model_name": "FloatProgressModel",
            "bar_style": "success",
            "max": 28881,
            "_view_module": "@jupyter-widgets/controls",
            "_model_module_version": "1.5.0",
            "value": 28881,
            "_view_count": null,
            "_view_module_version": "1.5.0",
            "orientation": "horizontal",
            "min": 0,
            "description_tooltip": null,
            "_model_module": "@jupyter-widgets/controls",
            "layout": "IPY_MODEL_69bd3e6b6f28411a9a79c07a969a7ed6"
          }
        },
        "43eca322ef4e47c58839bda5e6660792": {
          "model_module": "@jupyter-widgets/controls",
          "model_name": "HTMLModel",
          "model_module_version": "1.5.0",
          "state": {
            "_view_name": "HTMLView",
            "style": "IPY_MODEL_5e191034297944429203be7da792aa4d",
            "_dom_classes": [],
            "description": "",
            "_model_name": "HTMLModel",
            "placeholder": "​",
            "_view_module": "@jupyter-widgets/controls",
            "_model_module_version": "1.5.0",
            "value": " 29696/? [00:00&lt;00:00, 643204.88it/s]",
            "_view_count": null,
            "_view_module_version": "1.5.0",
            "description_tooltip": null,
            "_model_module": "@jupyter-widgets/controls",
            "layout": "IPY_MODEL_80ac4e38a8f34c9091524afc8d142a9f"
          }
        },
        "7bc1f1e6f454403a97914962813e31e5": {
          "model_module": "@jupyter-widgets/controls",
          "model_name": "DescriptionStyleModel",
          "model_module_version": "1.5.0",
          "state": {
            "_view_name": "StyleView",
            "_model_name": "DescriptionStyleModel",
            "description_width": "",
            "_view_module": "@jupyter-widgets/base",
            "_model_module_version": "1.5.0",
            "_view_count": null,
            "_view_module_version": "1.2.0",
            "_model_module": "@jupyter-widgets/controls"
          }
        },
        "ccf9a94696674a63a4cbd1894adbe27a": {
          "model_module": "@jupyter-widgets/base",
          "model_name": "LayoutModel",
          "model_module_version": "1.2.0",
          "state": {
            "_view_name": "LayoutView",
            "grid_template_rows": null,
            "right": null,
            "justify_content": null,
            "_view_module": "@jupyter-widgets/base",
            "overflow": null,
            "_model_module_version": "1.2.0",
            "_view_count": null,
            "flex_flow": null,
            "width": null,
            "min_width": null,
            "border": null,
            "align_items": null,
            "bottom": null,
            "_model_module": "@jupyter-widgets/base",
            "top": null,
            "grid_column": null,
            "overflow_y": null,
            "overflow_x": null,
            "grid_auto_flow": null,
            "grid_area": null,
            "grid_template_columns": null,
            "flex": null,
            "_model_name": "LayoutModel",
            "justify_items": null,
            "grid_row": null,
            "max_height": null,
            "align_content": null,
            "visibility": null,
            "align_self": null,
            "height": null,
            "min_height": null,
            "padding": null,
            "grid_auto_rows": null,
            "grid_gap": null,
            "max_width": null,
            "order": null,
            "_view_module_version": "1.2.0",
            "grid_template_areas": null,
            "object_position": null,
            "object_fit": null,
            "grid_auto_columns": null,
            "margin": null,
            "display": null,
            "left": null
          }
        },
        "385af475671f41a29d692fb82c596aa9": {
          "model_module": "@jupyter-widgets/controls",
          "model_name": "ProgressStyleModel",
          "model_module_version": "1.5.0",
          "state": {
            "_view_name": "StyleView",
            "_model_name": "ProgressStyleModel",
            "description_width": "",
            "_view_module": "@jupyter-widgets/base",
            "_model_module_version": "1.5.0",
            "_view_count": null,
            "_view_module_version": "1.2.0",
            "bar_color": null,
            "_model_module": "@jupyter-widgets/controls"
          }
        },
        "69bd3e6b6f28411a9a79c07a969a7ed6": {
          "model_module": "@jupyter-widgets/base",
          "model_name": "LayoutModel",
          "model_module_version": "1.2.0",
          "state": {
            "_view_name": "LayoutView",
            "grid_template_rows": null,
            "right": null,
            "justify_content": null,
            "_view_module": "@jupyter-widgets/base",
            "overflow": null,
            "_model_module_version": "1.2.0",
            "_view_count": null,
            "flex_flow": null,
            "width": null,
            "min_width": null,
            "border": null,
            "align_items": null,
            "bottom": null,
            "_model_module": "@jupyter-widgets/base",
            "top": null,
            "grid_column": null,
            "overflow_y": null,
            "overflow_x": null,
            "grid_auto_flow": null,
            "grid_area": null,
            "grid_template_columns": null,
            "flex": null,
            "_model_name": "LayoutModel",
            "justify_items": null,
            "grid_row": null,
            "max_height": null,
            "align_content": null,
            "visibility": null,
            "align_self": null,
            "height": null,
            "min_height": null,
            "padding": null,
            "grid_auto_rows": null,
            "grid_gap": null,
            "max_width": null,
            "order": null,
            "_view_module_version": "1.2.0",
            "grid_template_areas": null,
            "object_position": null,
            "object_fit": null,
            "grid_auto_columns": null,
            "margin": null,
            "display": null,
            "left": null
          }
        },
        "5e191034297944429203be7da792aa4d": {
          "model_module": "@jupyter-widgets/controls",
          "model_name": "DescriptionStyleModel",
          "model_module_version": "1.5.0",
          "state": {
            "_view_name": "StyleView",
            "_model_name": "DescriptionStyleModel",
            "description_width": "",
            "_view_module": "@jupyter-widgets/base",
            "_model_module_version": "1.5.0",
            "_view_count": null,
            "_view_module_version": "1.2.0",
            "_model_module": "@jupyter-widgets/controls"
          }
        },
        "80ac4e38a8f34c9091524afc8d142a9f": {
          "model_module": "@jupyter-widgets/base",
          "model_name": "LayoutModel",
          "model_module_version": "1.2.0",
          "state": {
            "_view_name": "LayoutView",
            "grid_template_rows": null,
            "right": null,
            "justify_content": null,
            "_view_module": "@jupyter-widgets/base",
            "overflow": null,
            "_model_module_version": "1.2.0",
            "_view_count": null,
            "flex_flow": null,
            "width": null,
            "min_width": null,
            "border": null,
            "align_items": null,
            "bottom": null,
            "_model_module": "@jupyter-widgets/base",
            "top": null,
            "grid_column": null,
            "overflow_y": null,
            "overflow_x": null,
            "grid_auto_flow": null,
            "grid_area": null,
            "grid_template_columns": null,
            "flex": null,
            "_model_name": "LayoutModel",
            "justify_items": null,
            "grid_row": null,
            "max_height": null,
            "align_content": null,
            "visibility": null,
            "align_self": null,
            "height": null,
            "min_height": null,
            "padding": null,
            "grid_auto_rows": null,
            "grid_gap": null,
            "max_width": null,
            "order": null,
            "_view_module_version": "1.2.0",
            "grid_template_areas": null,
            "object_position": null,
            "object_fit": null,
            "grid_auto_columns": null,
            "margin": null,
            "display": null,
            "left": null
          }
        },
        "c3d82ae950ba46a1aa7ffe0f63a26b08": {
          "model_module": "@jupyter-widgets/controls",
          "model_name": "HBoxModel",
          "model_module_version": "1.5.0",
          "state": {
            "_view_name": "HBoxView",
            "_dom_classes": [],
            "_model_name": "HBoxModel",
            "_view_module": "@jupyter-widgets/controls",
            "_model_module_version": "1.5.0",
            "_view_count": null,
            "_view_module_version": "1.5.0",
            "box_style": "",
            "layout": "IPY_MODEL_a91dfe041f304f8f897c2f21a6b56874",
            "_model_module": "@jupyter-widgets/controls",
            "children": [
              "IPY_MODEL_1373d2af0c1547ec81a7d70652f5318d",
              "IPY_MODEL_216aae779e68426d832804b9fc40c784",
              "IPY_MODEL_d89ceb8b6e914e21b0159700d10f3a5c"
            ]
          }
        },
        "a91dfe041f304f8f897c2f21a6b56874": {
          "model_module": "@jupyter-widgets/base",
          "model_name": "LayoutModel",
          "model_module_version": "1.2.0",
          "state": {
            "_view_name": "LayoutView",
            "grid_template_rows": null,
            "right": null,
            "justify_content": null,
            "_view_module": "@jupyter-widgets/base",
            "overflow": null,
            "_model_module_version": "1.2.0",
            "_view_count": null,
            "flex_flow": null,
            "width": null,
            "min_width": null,
            "border": null,
            "align_items": null,
            "bottom": null,
            "_model_module": "@jupyter-widgets/base",
            "top": null,
            "grid_column": null,
            "overflow_y": null,
            "overflow_x": null,
            "grid_auto_flow": null,
            "grid_area": null,
            "grid_template_columns": null,
            "flex": null,
            "_model_name": "LayoutModel",
            "justify_items": null,
            "grid_row": null,
            "max_height": null,
            "align_content": null,
            "visibility": null,
            "align_self": null,
            "height": null,
            "min_height": null,
            "padding": null,
            "grid_auto_rows": null,
            "grid_gap": null,
            "max_width": null,
            "order": null,
            "_view_module_version": "1.2.0",
            "grid_template_areas": null,
            "object_position": null,
            "object_fit": null,
            "grid_auto_columns": null,
            "margin": null,
            "display": null,
            "left": null
          }
        },
        "1373d2af0c1547ec81a7d70652f5318d": {
          "model_module": "@jupyter-widgets/controls",
          "model_name": "HTMLModel",
          "model_module_version": "1.5.0",
          "state": {
            "_view_name": "HTMLView",
            "style": "IPY_MODEL_8d47311c46b747a3b8ef23ccfd1f4be5",
            "_dom_classes": [],
            "description": "",
            "_model_name": "HTMLModel",
            "placeholder": "​",
            "_view_module": "@jupyter-widgets/controls",
            "_model_module_version": "1.5.0",
            "value": "",
            "_view_count": null,
            "_view_module_version": "1.5.0",
            "description_tooltip": null,
            "_model_module": "@jupyter-widgets/controls",
            "layout": "IPY_MODEL_f91eb4167fbc4136b75f131db871e5d3"
          }
        },
        "216aae779e68426d832804b9fc40c784": {
          "model_module": "@jupyter-widgets/controls",
          "model_name": "FloatProgressModel",
          "model_module_version": "1.5.0",
          "state": {
            "_view_name": "ProgressView",
            "style": "IPY_MODEL_8cc039fac19b4645ae3d82dddf0998f2",
            "_dom_classes": [],
            "description": "",
            "_model_name": "FloatProgressModel",
            "bar_style": "success",
            "max": 1648877,
            "_view_module": "@jupyter-widgets/controls",
            "_model_module_version": "1.5.0",
            "value": 1648877,
            "_view_count": null,
            "_view_module_version": "1.5.0",
            "orientation": "horizontal",
            "min": 0,
            "description_tooltip": null,
            "_model_module": "@jupyter-widgets/controls",
            "layout": "IPY_MODEL_3bea6d9023ab4684bb8275a41a8a9853"
          }
        },
        "d89ceb8b6e914e21b0159700d10f3a5c": {
          "model_module": "@jupyter-widgets/controls",
          "model_name": "HTMLModel",
          "model_module_version": "1.5.0",
          "state": {
            "_view_name": "HTMLView",
            "style": "IPY_MODEL_5ebd3115a816498a8e610bf9214b6ada",
            "_dom_classes": [],
            "description": "",
            "_model_name": "HTMLModel",
            "placeholder": "​",
            "_view_module": "@jupyter-widgets/controls",
            "_model_module_version": "1.5.0",
            "value": " 1649664/? [00:00&lt;00:00, 17632963.00it/s]",
            "_view_count": null,
            "_view_module_version": "1.5.0",
            "description_tooltip": null,
            "_model_module": "@jupyter-widgets/controls",
            "layout": "IPY_MODEL_dea0188d7ebe47fb881232bf118188fc"
          }
        },
        "8d47311c46b747a3b8ef23ccfd1f4be5": {
          "model_module": "@jupyter-widgets/controls",
          "model_name": "DescriptionStyleModel",
          "model_module_version": "1.5.0",
          "state": {
            "_view_name": "StyleView",
            "_model_name": "DescriptionStyleModel",
            "description_width": "",
            "_view_module": "@jupyter-widgets/base",
            "_model_module_version": "1.5.0",
            "_view_count": null,
            "_view_module_version": "1.2.0",
            "_model_module": "@jupyter-widgets/controls"
          }
        },
        "f91eb4167fbc4136b75f131db871e5d3": {
          "model_module": "@jupyter-widgets/base",
          "model_name": "LayoutModel",
          "model_module_version": "1.2.0",
          "state": {
            "_view_name": "LayoutView",
            "grid_template_rows": null,
            "right": null,
            "justify_content": null,
            "_view_module": "@jupyter-widgets/base",
            "overflow": null,
            "_model_module_version": "1.2.0",
            "_view_count": null,
            "flex_flow": null,
            "width": null,
            "min_width": null,
            "border": null,
            "align_items": null,
            "bottom": null,
            "_model_module": "@jupyter-widgets/base",
            "top": null,
            "grid_column": null,
            "overflow_y": null,
            "overflow_x": null,
            "grid_auto_flow": null,
            "grid_area": null,
            "grid_template_columns": null,
            "flex": null,
            "_model_name": "LayoutModel",
            "justify_items": null,
            "grid_row": null,
            "max_height": null,
            "align_content": null,
            "visibility": null,
            "align_self": null,
            "height": null,
            "min_height": null,
            "padding": null,
            "grid_auto_rows": null,
            "grid_gap": null,
            "max_width": null,
            "order": null,
            "_view_module_version": "1.2.0",
            "grid_template_areas": null,
            "object_position": null,
            "object_fit": null,
            "grid_auto_columns": null,
            "margin": null,
            "display": null,
            "left": null
          }
        },
        "8cc039fac19b4645ae3d82dddf0998f2": {
          "model_module": "@jupyter-widgets/controls",
          "model_name": "ProgressStyleModel",
          "model_module_version": "1.5.0",
          "state": {
            "_view_name": "StyleView",
            "_model_name": "ProgressStyleModel",
            "description_width": "",
            "_view_module": "@jupyter-widgets/base",
            "_model_module_version": "1.5.0",
            "_view_count": null,
            "_view_module_version": "1.2.0",
            "bar_color": null,
            "_model_module": "@jupyter-widgets/controls"
          }
        },
        "3bea6d9023ab4684bb8275a41a8a9853": {
          "model_module": "@jupyter-widgets/base",
          "model_name": "LayoutModel",
          "model_module_version": "1.2.0",
          "state": {
            "_view_name": "LayoutView",
            "grid_template_rows": null,
            "right": null,
            "justify_content": null,
            "_view_module": "@jupyter-widgets/base",
            "overflow": null,
            "_model_module_version": "1.2.0",
            "_view_count": null,
            "flex_flow": null,
            "width": null,
            "min_width": null,
            "border": null,
            "align_items": null,
            "bottom": null,
            "_model_module": "@jupyter-widgets/base",
            "top": null,
            "grid_column": null,
            "overflow_y": null,
            "overflow_x": null,
            "grid_auto_flow": null,
            "grid_area": null,
            "grid_template_columns": null,
            "flex": null,
            "_model_name": "LayoutModel",
            "justify_items": null,
            "grid_row": null,
            "max_height": null,
            "align_content": null,
            "visibility": null,
            "align_self": null,
            "height": null,
            "min_height": null,
            "padding": null,
            "grid_auto_rows": null,
            "grid_gap": null,
            "max_width": null,
            "order": null,
            "_view_module_version": "1.2.0",
            "grid_template_areas": null,
            "object_position": null,
            "object_fit": null,
            "grid_auto_columns": null,
            "margin": null,
            "display": null,
            "left": null
          }
        },
        "5ebd3115a816498a8e610bf9214b6ada": {
          "model_module": "@jupyter-widgets/controls",
          "model_name": "DescriptionStyleModel",
          "model_module_version": "1.5.0",
          "state": {
            "_view_name": "StyleView",
            "_model_name": "DescriptionStyleModel",
            "description_width": "",
            "_view_module": "@jupyter-widgets/base",
            "_model_module_version": "1.5.0",
            "_view_count": null,
            "_view_module_version": "1.2.0",
            "_model_module": "@jupyter-widgets/controls"
          }
        },
        "dea0188d7ebe47fb881232bf118188fc": {
          "model_module": "@jupyter-widgets/base",
          "model_name": "LayoutModel",
          "model_module_version": "1.2.0",
          "state": {
            "_view_name": "LayoutView",
            "grid_template_rows": null,
            "right": null,
            "justify_content": null,
            "_view_module": "@jupyter-widgets/base",
            "overflow": null,
            "_model_module_version": "1.2.0",
            "_view_count": null,
            "flex_flow": null,
            "width": null,
            "min_width": null,
            "border": null,
            "align_items": null,
            "bottom": null,
            "_model_module": "@jupyter-widgets/base",
            "top": null,
            "grid_column": null,
            "overflow_y": null,
            "overflow_x": null,
            "grid_auto_flow": null,
            "grid_area": null,
            "grid_template_columns": null,
            "flex": null,
            "_model_name": "LayoutModel",
            "justify_items": null,
            "grid_row": null,
            "max_height": null,
            "align_content": null,
            "visibility": null,
            "align_self": null,
            "height": null,
            "min_height": null,
            "padding": null,
            "grid_auto_rows": null,
            "grid_gap": null,
            "max_width": null,
            "order": null,
            "_view_module_version": "1.2.0",
            "grid_template_areas": null,
            "object_position": null,
            "object_fit": null,
            "grid_auto_columns": null,
            "margin": null,
            "display": null,
            "left": null
          }
        },
        "cb0883e932bd44d2b3c23a9b4705a847": {
          "model_module": "@jupyter-widgets/controls",
          "model_name": "HBoxModel",
          "model_module_version": "1.5.0",
          "state": {
            "_view_name": "HBoxView",
            "_dom_classes": [],
            "_model_name": "HBoxModel",
            "_view_module": "@jupyter-widgets/controls",
            "_model_module_version": "1.5.0",
            "_view_count": null,
            "_view_module_version": "1.5.0",
            "box_style": "",
            "layout": "IPY_MODEL_04b5bacca0134669bdf7a58a559ab865",
            "_model_module": "@jupyter-widgets/controls",
            "children": [
              "IPY_MODEL_755af25d700e4e42a232a212bb79b5a9",
              "IPY_MODEL_faf5e8f6dc6d4f04bf81a31cbff4e228",
              "IPY_MODEL_d900c2ba06ec4b5fbc7cd71322f724d0"
            ]
          }
        },
        "04b5bacca0134669bdf7a58a559ab865": {
          "model_module": "@jupyter-widgets/base",
          "model_name": "LayoutModel",
          "model_module_version": "1.2.0",
          "state": {
            "_view_name": "LayoutView",
            "grid_template_rows": null,
            "right": null,
            "justify_content": null,
            "_view_module": "@jupyter-widgets/base",
            "overflow": null,
            "_model_module_version": "1.2.0",
            "_view_count": null,
            "flex_flow": null,
            "width": null,
            "min_width": null,
            "border": null,
            "align_items": null,
            "bottom": null,
            "_model_module": "@jupyter-widgets/base",
            "top": null,
            "grid_column": null,
            "overflow_y": null,
            "overflow_x": null,
            "grid_auto_flow": null,
            "grid_area": null,
            "grid_template_columns": null,
            "flex": null,
            "_model_name": "LayoutModel",
            "justify_items": null,
            "grid_row": null,
            "max_height": null,
            "align_content": null,
            "visibility": null,
            "align_self": null,
            "height": null,
            "min_height": null,
            "padding": null,
            "grid_auto_rows": null,
            "grid_gap": null,
            "max_width": null,
            "order": null,
            "_view_module_version": "1.2.0",
            "grid_template_areas": null,
            "object_position": null,
            "object_fit": null,
            "grid_auto_columns": null,
            "margin": null,
            "display": null,
            "left": null
          }
        },
        "755af25d700e4e42a232a212bb79b5a9": {
          "model_module": "@jupyter-widgets/controls",
          "model_name": "HTMLModel",
          "model_module_version": "1.5.0",
          "state": {
            "_view_name": "HTMLView",
            "style": "IPY_MODEL_76ceaef895a142ed92698ee6d69ee0fc",
            "_dom_classes": [],
            "description": "",
            "_model_name": "HTMLModel",
            "placeholder": "​",
            "_view_module": "@jupyter-widgets/controls",
            "_model_module_version": "1.5.0",
            "value": "",
            "_view_count": null,
            "_view_module_version": "1.5.0",
            "description_tooltip": null,
            "_model_module": "@jupyter-widgets/controls",
            "layout": "IPY_MODEL_6bf271149fc241d28a5e18da71a2ea07"
          }
        },
        "faf5e8f6dc6d4f04bf81a31cbff4e228": {
          "model_module": "@jupyter-widgets/controls",
          "model_name": "FloatProgressModel",
          "model_module_version": "1.5.0",
          "state": {
            "_view_name": "ProgressView",
            "style": "IPY_MODEL_73f73dd24f0c4c65861b8fb695a45a36",
            "_dom_classes": [],
            "description": "",
            "_model_name": "FloatProgressModel",
            "bar_style": "success",
            "max": 4542,
            "_view_module": "@jupyter-widgets/controls",
            "_model_module_version": "1.5.0",
            "value": 4542,
            "_view_count": null,
            "_view_module_version": "1.5.0",
            "orientation": "horizontal",
            "min": 0,
            "description_tooltip": null,
            "_model_module": "@jupyter-widgets/controls",
            "layout": "IPY_MODEL_c8ff12f9df3a4cd79e30ff0a6a97af7c"
          }
        },
        "d900c2ba06ec4b5fbc7cd71322f724d0": {
          "model_module": "@jupyter-widgets/controls",
          "model_name": "HTMLModel",
          "model_module_version": "1.5.0",
          "state": {
            "_view_name": "HTMLView",
            "style": "IPY_MODEL_270f18e70d69496296184ada8e5532ac",
            "_dom_classes": [],
            "description": "",
            "_model_name": "HTMLModel",
            "placeholder": "​",
            "_view_module": "@jupyter-widgets/controls",
            "_model_module_version": "1.5.0",
            "value": " 5120/? [00:00&lt;00:00, 134426.09it/s]",
            "_view_count": null,
            "_view_module_version": "1.5.0",
            "description_tooltip": null,
            "_model_module": "@jupyter-widgets/controls",
            "layout": "IPY_MODEL_504115e6c7df448ebbfa2b49c9a52641"
          }
        },
        "76ceaef895a142ed92698ee6d69ee0fc": {
          "model_module": "@jupyter-widgets/controls",
          "model_name": "DescriptionStyleModel",
          "model_module_version": "1.5.0",
          "state": {
            "_view_name": "StyleView",
            "_model_name": "DescriptionStyleModel",
            "description_width": "",
            "_view_module": "@jupyter-widgets/base",
            "_model_module_version": "1.5.0",
            "_view_count": null,
            "_view_module_version": "1.2.0",
            "_model_module": "@jupyter-widgets/controls"
          }
        },
        "6bf271149fc241d28a5e18da71a2ea07": {
          "model_module": "@jupyter-widgets/base",
          "model_name": "LayoutModel",
          "model_module_version": "1.2.0",
          "state": {
            "_view_name": "LayoutView",
            "grid_template_rows": null,
            "right": null,
            "justify_content": null,
            "_view_module": "@jupyter-widgets/base",
            "overflow": null,
            "_model_module_version": "1.2.0",
            "_view_count": null,
            "flex_flow": null,
            "width": null,
            "min_width": null,
            "border": null,
            "align_items": null,
            "bottom": null,
            "_model_module": "@jupyter-widgets/base",
            "top": null,
            "grid_column": null,
            "overflow_y": null,
            "overflow_x": null,
            "grid_auto_flow": null,
            "grid_area": null,
            "grid_template_columns": null,
            "flex": null,
            "_model_name": "LayoutModel",
            "justify_items": null,
            "grid_row": null,
            "max_height": null,
            "align_content": null,
            "visibility": null,
            "align_self": null,
            "height": null,
            "min_height": null,
            "padding": null,
            "grid_auto_rows": null,
            "grid_gap": null,
            "max_width": null,
            "order": null,
            "_view_module_version": "1.2.0",
            "grid_template_areas": null,
            "object_position": null,
            "object_fit": null,
            "grid_auto_columns": null,
            "margin": null,
            "display": null,
            "left": null
          }
        },
        "73f73dd24f0c4c65861b8fb695a45a36": {
          "model_module": "@jupyter-widgets/controls",
          "model_name": "ProgressStyleModel",
          "model_module_version": "1.5.0",
          "state": {
            "_view_name": "StyleView",
            "_model_name": "ProgressStyleModel",
            "description_width": "",
            "_view_module": "@jupyter-widgets/base",
            "_model_module_version": "1.5.0",
            "_view_count": null,
            "_view_module_version": "1.2.0",
            "bar_color": null,
            "_model_module": "@jupyter-widgets/controls"
          }
        },
        "c8ff12f9df3a4cd79e30ff0a6a97af7c": {
          "model_module": "@jupyter-widgets/base",
          "model_name": "LayoutModel",
          "model_module_version": "1.2.0",
          "state": {
            "_view_name": "LayoutView",
            "grid_template_rows": null,
            "right": null,
            "justify_content": null,
            "_view_module": "@jupyter-widgets/base",
            "overflow": null,
            "_model_module_version": "1.2.0",
            "_view_count": null,
            "flex_flow": null,
            "width": null,
            "min_width": null,
            "border": null,
            "align_items": null,
            "bottom": null,
            "_model_module": "@jupyter-widgets/base",
            "top": null,
            "grid_column": null,
            "overflow_y": null,
            "overflow_x": null,
            "grid_auto_flow": null,
            "grid_area": null,
            "grid_template_columns": null,
            "flex": null,
            "_model_name": "LayoutModel",
            "justify_items": null,
            "grid_row": null,
            "max_height": null,
            "align_content": null,
            "visibility": null,
            "align_self": null,
            "height": null,
            "min_height": null,
            "padding": null,
            "grid_auto_rows": null,
            "grid_gap": null,
            "max_width": null,
            "order": null,
            "_view_module_version": "1.2.0",
            "grid_template_areas": null,
            "object_position": null,
            "object_fit": null,
            "grid_auto_columns": null,
            "margin": null,
            "display": null,
            "left": null
          }
        },
        "270f18e70d69496296184ada8e5532ac": {
          "model_module": "@jupyter-widgets/controls",
          "model_name": "DescriptionStyleModel",
          "model_module_version": "1.5.0",
          "state": {
            "_view_name": "StyleView",
            "_model_name": "DescriptionStyleModel",
            "description_width": "",
            "_view_module": "@jupyter-widgets/base",
            "_model_module_version": "1.5.0",
            "_view_count": null,
            "_view_module_version": "1.2.0",
            "_model_module": "@jupyter-widgets/controls"
          }
        },
        "504115e6c7df448ebbfa2b49c9a52641": {
          "model_module": "@jupyter-widgets/base",
          "model_name": "LayoutModel",
          "model_module_version": "1.2.0",
          "state": {
            "_view_name": "LayoutView",
            "grid_template_rows": null,
            "right": null,
            "justify_content": null,
            "_view_module": "@jupyter-widgets/base",
            "overflow": null,
            "_model_module_version": "1.2.0",
            "_view_count": null,
            "flex_flow": null,
            "width": null,
            "min_width": null,
            "border": null,
            "align_items": null,
            "bottom": null,
            "_model_module": "@jupyter-widgets/base",
            "top": null,
            "grid_column": null,
            "overflow_y": null,
            "overflow_x": null,
            "grid_auto_flow": null,
            "grid_area": null,
            "grid_template_columns": null,
            "flex": null,
            "_model_name": "LayoutModel",
            "justify_items": null,
            "grid_row": null,
            "max_height": null,
            "align_content": null,
            "visibility": null,
            "align_self": null,
            "height": null,
            "min_height": null,
            "padding": null,
            "grid_auto_rows": null,
            "grid_gap": null,
            "max_width": null,
            "order": null,
            "_view_module_version": "1.2.0",
            "grid_template_areas": null,
            "object_position": null,
            "object_fit": null,
            "grid_auto_columns": null,
            "margin": null,
            "display": null,
            "left": null
          }
        }
      }
    }
  },
  "cells": [
    {
      "cell_type": "markdown",
      "metadata": {
        "id": "4NzyqehHjUlG"
      },
      "source": [
        "# ML in Cybersecurity: Task II\n",
        "\n",
        "## Team\n",
        "  * **Team name**:  Error 420 - Enhance Your Calm\n",
        "  * **Members**:  Lennard Rixecker (s8lerixe@stud.uni-saarland.de), Jorim Bechtle (s8jmbech@stud.uni-saarland.de), Dominik Sautter (s8dksaut@stud.uni-saarland.de)\n",
        "\n",
        "\n",
        "## Logistics\n",
        "  * **Due date**: 25th Nov. 2021, 23:59:59 (email the completed notebook including outputs to mlcysec_ws2022_staff@lists.cispa.saarland)\n",
        "  * Email the completed notebook to mlcysec_ws2022_staff@lists.cispa.saarland \n",
        "  * Complete this in the previously established **teams of 3**\n",
        "  * Feel free to use the course forum to discuss.\n",
        "  \n",
        "  \n",
        "## About this Project\n",
        "In this project, we dive into the vulnerabilities of machine learning models and the difficulties of defending against them. To this end, we ask you to implement an evasion attack (craft adversarial examples) yourselves, and defend your own model.   \n",
        "\n",
        "\n",
        "## A Note on Grading\n",
        "The total number of points in this project is 100. We further provide the number of points achievable with each excercise. You should take particular care to document and visualize your results.\n",
        "\n",
        "Whenever possible, please use tools like tables or figures to compare the different findings\n",
        "\n",
        "\n",
        " \n",
        "## Filling-in the Notebook\n",
        "You'll be submitting this very notebook that is filled-in with (all) your code and analysis. Make sure you submit one that has been previously executed in-order. (So that results/graphs are already visible upon opening it). \n",
        "\n",
        "The notebook you submit **should compile** (or should be self-contained and sufficiently commented). Check tutorial 1 on how to set up the Python3 environment.\n",
        "\n",
        "It is extremely important that you **do not** re-order the existing sections. Apart from that, the code blocks that you need to fill-in are given by:\n",
        "```\n",
        "#\n",
        "#\n",
        "# ------- Your Code -------\n",
        "#\n",
        "#\n",
        "```\n",
        "Feel free to break this into multiple-cells. It's even better if you interleave explanations and code-blocks so that the entire notebook forms a readable \"story\".\n",
        "\n",
        "\n",
        "## Code of Honor\n",
        "We encourage discussing ideas and concepts with other students to help you learn and better understand the course content. However, the work you submit and present **must be original** and demonstrate your effort in solving the presented problems. **We will not tolerate** blatantly using existing solutions (such as from the internet), improper collaboration (e.g., sharing code or experimental data between groups) and plagiarism. If the honor code is not met, no points will be awarded.\n",
        "\n",
        " \n",
        "  ---"
      ]
    },
    {
      "cell_type": "code",
      "metadata": {
        "id": "3ewNwfFvbFaR"
      },
      "source": [
        "import time \n",
        "import timeit\n",
        " \n",
        "import numpy as np \n",
        "import matplotlib.pyplot as plt \n",
        "\n",
        "import json \n",
        "import time \n",
        "import pickle \n",
        "import sys \n",
        "import csv \n",
        "import os \n",
        "import os.path as osp \n",
        "import shutil \n",
        "\n",
        "import pandas as pd\n",
        "\n",
        "from IPython.display import display, HTML\n",
        " \n",
        "%matplotlib inline \n",
        "plt.rcParams['figure.figsize'] = (10.0, 8.0) # set default size of plots \n",
        "plt.rcParams['image.interpolation'] = 'nearest' \n",
        "plt.rcParams['image.cmap'] = 'gray' \n",
        " \n",
        "# for auto-reloading external modules \n",
        "# see http://stackoverflow.com/questions/1907993/autoreload-of-modules-in-ipython \n",
        "%load_ext autoreload\n",
        "%autoreload 2"
      ],
      "execution_count": 1,
      "outputs": []
    },
    {
      "cell_type": "code",
      "metadata": {
        "id": "640GrzbOevr0"
      },
      "source": [
        "# Some suggestions of our libraries that might be helpful for this project\n",
        "from collections import Counter          # an even easier way to count\n",
        "from multiprocessing import Pool         # for multiprocessing\n",
        "from tqdm import tqdm                    # fancy progress bars\n",
        "\n",
        "# Load other libraries here.\n",
        "# Keep it minimal! We should be easily able to reproduce your code.\n",
        "# We only support sklearn and pytorch.\n",
        "import torchvision.datasets as datasets\n",
        "import torchvision.transforms as transforms\n",
        "import torch.utils.data as data\n",
        "\n",
        "# We preload pytorch as an example\n",
        "import torch\n",
        "import torch.nn as nn\n",
        "import torch.nn.functional as F\n",
        "import torch.optim as optim\n",
        "from torch.utils.data import DataLoader, Dataset, TensorDataset"
      ],
      "execution_count": 2,
      "outputs": []
    },
    {
      "cell_type": "code",
      "metadata": {
        "id": "GJZPEAWYMhYB"
      },
      "source": [
        "compute_mode = 'cpu'\n",
        "\n",
        "if compute_mode == 'cpu':\n",
        "    device = torch.device('cpu')\n",
        "elif compute_mode == 'gpu':\n",
        "    # If you are using pytorch on the GPU cluster, you have to manually specify which GPU device to use\n",
        "    # It is extremely important that you *do not* spawn multi-GPU jobs.\n",
        "    os.environ[\"CUDA_VISIBLE_DEVICES\"] = '0'    # Set device ID here\n",
        "    device = torch.device('cuda')\n",
        "else:\n",
        "    raise ValueError('Unrecognized compute mode')"
      ],
      "execution_count": 3,
      "outputs": []
    },
    {
      "cell_type": "markdown",
      "metadata": {
        "id": "nxi-lLD0mKHD"
      },
      "source": [
        "#### Helpers\n",
        "\n",
        "In case you choose to have some methods you plan to reuse during the notebook, define them here. This will avoid clutter and keep rest of the notebook succinct."
      ]
    },
    {
      "cell_type": "code",
      "metadata": {
        "id": "VBbigqdEmKd8"
      },
      "source": [
        "#\n",
        "#\n",
        "# ------- Your Code -------\n",
        "#\n",
        "#"
      ],
      "execution_count": 4,
      "outputs": []
    },
    {
      "cell_type": "markdown",
      "metadata": {
        "id": "n1pcmKkyjT7y"
      },
      "source": [
        "# 1. Attacking an ML-model (30 points) \n",
        "\n",
        "In this section, we implement an attack ourselves. First, however, you need a model you can attack. Feel free to choose the DNN/ConvNN from task 1.\n",
        "\n"
      ]
    },
    {
      "cell_type": "markdown",
      "metadata": {
        "id": "QaJv_d_Dp7OM"
      },
      "source": [
        "## 1.1: Setting up the model and data (4 Points)\n",
        "\n",
        "Load the MNIST data, as done in task 1. \n",
        "\n",
        "Re-use the model from task 1 here and train it until it achieves reasonable accuracy (>92%).\n",
        "\n",
        "If you have the saved checkpoint from task 1, you can load it directly. But please compute here the test accuracy using this checkpoint.  \n",
        "\n",
        "**Hint:** In order to save computation time for the rest of exercise, you might consider having a relatively small model here.\n",
        "\n",
        "**Hint**: You might want to save the trained model to save time later."
      ]
    },
    {
      "cell_type": "code",
      "metadata": {
        "colab": {
          "base_uri": "https://localhost:8080/",
          "height": 434,
          "referenced_widgets": [
            "9671cfb0a9814341988300be23d3f2e7",
            "ba188b7b9eed4f68b4643f22fb3e6c22",
            "c4ae53f1a3c0473c8690cdd8552debba",
            "63e663ec66e14c78b9189a38fedad459",
            "262ad777924c4c0990ba428355d2563d",
            "9680460a0ac146cc9fd2a6c42357c17b",
            "81ec26ed19484ced81d758f4af1d4190",
            "c73da06c16a040069e0ae1c1c8d2cbb8",
            "c0aad41b9ce246849a431dc2c2a9c9d8",
            "12cbe028f04e42a59df63c31e2fbfc3e",
            "59311ffed4084eb7803715d7f26285e5",
            "6d23934a6910408b9978ca0743a32326",
            "51caf3eabb934af2a0903a6dd2cc99cc",
            "a995467480924642827cada6dc3d5ee5",
            "5e8ad3dcc6644a449336884778872ebe",
            "43eca322ef4e47c58839bda5e6660792",
            "7bc1f1e6f454403a97914962813e31e5",
            "ccf9a94696674a63a4cbd1894adbe27a",
            "385af475671f41a29d692fb82c596aa9",
            "69bd3e6b6f28411a9a79c07a969a7ed6",
            "5e191034297944429203be7da792aa4d",
            "80ac4e38a8f34c9091524afc8d142a9f",
            "c3d82ae950ba46a1aa7ffe0f63a26b08",
            "a91dfe041f304f8f897c2f21a6b56874",
            "1373d2af0c1547ec81a7d70652f5318d",
            "216aae779e68426d832804b9fc40c784",
            "d89ceb8b6e914e21b0159700d10f3a5c",
            "8d47311c46b747a3b8ef23ccfd1f4be5",
            "f91eb4167fbc4136b75f131db871e5d3",
            "8cc039fac19b4645ae3d82dddf0998f2",
            "3bea6d9023ab4684bb8275a41a8a9853",
            "5ebd3115a816498a8e610bf9214b6ada",
            "dea0188d7ebe47fb881232bf118188fc",
            "cb0883e932bd44d2b3c23a9b4705a847",
            "04b5bacca0134669bdf7a58a559ab865",
            "755af25d700e4e42a232a212bb79b5a9",
            "faf5e8f6dc6d4f04bf81a31cbff4e228",
            "d900c2ba06ec4b5fbc7cd71322f724d0",
            "76ceaef895a142ed92698ee6d69ee0fc",
            "6bf271149fc241d28a5e18da71a2ea07",
            "73f73dd24f0c4c65861b8fb695a45a36",
            "c8ff12f9df3a4cd79e30ff0a6a97af7c",
            "270f18e70d69496296184ada8e5532ac",
            "504115e6c7df448ebbfa2b49c9a52641"
          ]
        },
        "id": "c688qdGtO1v-",
        "outputId": "abb1e6d1-fd07-48a8-a98c-ff6bed976f29"
      },
      "source": [
        "input_size = 784\n",
        "num_classes = 10\n",
        "learning_rate = 0.001\n",
        "batch_size = 64\n",
        "epochs = 10\n",
        "\n",
        "# (1)load data\n",
        "train_dataset = datasets.MNIST(root='dataset/', train=True, transform=transforms.ToTensor(), download=True)\n",
        "train_loader = DataLoader(dataset=train_dataset, batch_size=batch_size, shuffle=True)\n",
        "test_dataset = datasets.MNIST(root='dataset/', train=False, transform=transforms.ToTensor(), download=True)\n",
        "test_loader = DataLoader(dataset=test_dataset, batch_size=batch_size, shuffle=True)\n",
        "\n",
        "lastTest_dataset = datasets.MNIST(root='dataset/', train=False, transform=transforms.ToTensor(), download=True)\n",
        "lastTest_loader = DataLoader(dataset=lastTest_dataset, batch_size=batch_size, shuffle=True)\n",
        "\n",
        "# (2)define model\n",
        "class NN(nn.Module):\n",
        "    def __init__(self, input_size, num_classes):\n",
        "        super(NN, self).__init__()\n",
        "        self.fc1 = nn.Linear(input_size, 500)\n",
        "        self.fc2 = nn.Linear(500, 50)\n",
        "        self.fc3 = nn.Linear(50, num_classes)\n",
        "\n",
        "    def forward(self, x):\n",
        "        x = F.relu(self.fc1(x))\n",
        "        x = F.relu(self.fc2(x))\n",
        "        x = self.fc3(x)\n",
        "        return x\n",
        "\n",
        "# (3)define loss, optimizer \n",
        "def newModel (numepoch):\n",
        "\n",
        "    num_epochs = numepoch\n",
        "\n",
        "    # Initialize network\n",
        "    model = NN(input_size, num_classes)\n",
        "\n",
        "    # Loss and optimizer\n",
        "    criterion = nn.CrossEntropyLoss()\n",
        "    optimizer = optim.Adam(model.parameters(), lr=learning_rate)\n",
        "\n",
        "    averageloss = 0\n",
        "    counter = 0\n",
        "    # Train Network\n",
        "    for epoch in range(num_epochs):\n",
        "        for batch_idx, (data, targets) in enumerate(train_loader):\n",
        "            data = data.reshape(data.shape[0], -1)\n",
        "            scores = model(data)\n",
        "            loss = criterion(scores, targets)\n",
        "            averageloss += loss\n",
        "            counter += 1\n",
        "            #print(f'averageloss: {averageloss}')\n",
        "\n",
        "            optimizer.zero_grad()\n",
        "            loss.backward()\n",
        "\n",
        "            optimizer.step()\n",
        "    return (model, float(averageloss/counter))\n",
        "\n",
        "# (4)train (You can re-use the trained model from project1)\n",
        "def check_accuracy(loader, model):\n",
        "    num_correct = 0\n",
        "    num_samples = 0\n",
        "    model.eval()\n",
        "\n",
        "    with torch.no_grad():\n",
        "        for x, y in loader:\n",
        "            x = x.reshape(x.shape[0], -1)\n",
        "\n",
        "            scores = model(x)\n",
        "            _, predictions = scores.max(1)\n",
        "            num_correct += (predictions == y).sum()\n",
        "            num_samples += predictions.size(0)\n",
        "    model.train()\n",
        "    return (float(num_correct)/float(num_samples)*100)\n",
        "\n",
        "losses = []\n",
        "accuracytest = []\n",
        "accuracytrain = []\n",
        "runtime = []\n",
        "\n",
        "(initialmodel, avgloss) = newModel(epochs)\n",
        "losses.append(avgloss)\n",
        "accuracytrain.append(check_accuracy(train_loader, initialmodel))\n",
        "accuracytest.append(check_accuracy(test_loader, initialmodel))\n",
        "\n",
        "\n",
        "train_acc = accuracytrain[-1]\n",
        "epoch = epochs\n",
        "test_acc = accuracytest[-1]\n",
        "\n",
        "\n",
        "# (5)evaluate\n",
        "print('Epoch %d, Train acc: %f, Test acc: %f' % (epoch, train_acc, test_acc))"
      ],
      "execution_count": 5,
      "outputs": [
        {
          "output_type": "stream",
          "name": "stdout",
          "text": [
            "Downloading http://yann.lecun.com/exdb/mnist/train-images-idx3-ubyte.gz\n",
            "Downloading http://yann.lecun.com/exdb/mnist/train-images-idx3-ubyte.gz to dataset/MNIST/raw/train-images-idx3-ubyte.gz\n"
          ]
        },
        {
          "output_type": "display_data",
          "data": {
            "application/vnd.jupyter.widget-view+json": {
              "model_id": "9671cfb0a9814341988300be23d3f2e7",
              "version_minor": 0,
              "version_major": 2
            },
            "text/plain": [
              "  0%|          | 0/9912422 [00:00<?, ?it/s]"
            ]
          },
          "metadata": {}
        },
        {
          "output_type": "stream",
          "name": "stdout",
          "text": [
            "Extracting dataset/MNIST/raw/train-images-idx3-ubyte.gz to dataset/MNIST/raw\n",
            "\n",
            "Downloading http://yann.lecun.com/exdb/mnist/train-labels-idx1-ubyte.gz\n",
            "Downloading http://yann.lecun.com/exdb/mnist/train-labels-idx1-ubyte.gz to dataset/MNIST/raw/train-labels-idx1-ubyte.gz\n"
          ]
        },
        {
          "output_type": "display_data",
          "data": {
            "application/vnd.jupyter.widget-view+json": {
              "model_id": "6d23934a6910408b9978ca0743a32326",
              "version_minor": 0,
              "version_major": 2
            },
            "text/plain": [
              "  0%|          | 0/28881 [00:00<?, ?it/s]"
            ]
          },
          "metadata": {}
        },
        {
          "output_type": "stream",
          "name": "stdout",
          "text": [
            "Extracting dataset/MNIST/raw/train-labels-idx1-ubyte.gz to dataset/MNIST/raw\n",
            "\n",
            "Downloading http://yann.lecun.com/exdb/mnist/t10k-images-idx3-ubyte.gz\n",
            "Downloading http://yann.lecun.com/exdb/mnist/t10k-images-idx3-ubyte.gz to dataset/MNIST/raw/t10k-images-idx3-ubyte.gz\n"
          ]
        },
        {
          "output_type": "display_data",
          "data": {
            "application/vnd.jupyter.widget-view+json": {
              "model_id": "c3d82ae950ba46a1aa7ffe0f63a26b08",
              "version_minor": 0,
              "version_major": 2
            },
            "text/plain": [
              "  0%|          | 0/1648877 [00:00<?, ?it/s]"
            ]
          },
          "metadata": {}
        },
        {
          "output_type": "stream",
          "name": "stdout",
          "text": [
            "Extracting dataset/MNIST/raw/t10k-images-idx3-ubyte.gz to dataset/MNIST/raw\n",
            "\n",
            "Downloading http://yann.lecun.com/exdb/mnist/t10k-labels-idx1-ubyte.gz\n",
            "Downloading http://yann.lecun.com/exdb/mnist/t10k-labels-idx1-ubyte.gz to dataset/MNIST/raw/t10k-labels-idx1-ubyte.gz\n"
          ]
        },
        {
          "output_type": "display_data",
          "data": {
            "application/vnd.jupyter.widget-view+json": {
              "model_id": "cb0883e932bd44d2b3c23a9b4705a847",
              "version_minor": 0,
              "version_major": 2
            },
            "text/plain": [
              "  0%|          | 0/4542 [00:00<?, ?it/s]"
            ]
          },
          "metadata": {}
        },
        {
          "output_type": "stream",
          "name": "stdout",
          "text": [
            "Extracting dataset/MNIST/raw/t10k-labels-idx1-ubyte.gz to dataset/MNIST/raw\n",
            "\n",
            "Epoch 10, Train acc: 99.351667, Test acc: 97.630000\n"
          ]
        }
      ]
    },
    {
      "cell_type": "markdown",
      "metadata": {
        "id": "DEQrdyLHsUIu"
      },
      "source": [
        "## 1.2: Implementing the FGSM attack (7 Points)\n",
        "\n",
        "We now want to attack the model trained in the previous step. We will start with the FGSM attack as a simple example. \n",
        "\n",
        "Please implement the FGSM attack mentioned in the lecture. \n",
        "\n",
        "More details: https://arxiv.org/pdf/1412.6572.pdf\n"
      ]
    },
    {
      "cell_type": "code",
      "metadata": {
        "id": "gcVZnUNbRKOz"
      },
      "source": [
        "# implement fast gradient sign method for model above\n",
        "def fgsm(model, x, y, epsilon):\n",
        "    criterion = nn.CrossEntropyLoss()\n",
        "    x = x.reshape(x.shape[0], -1)\n",
        "    x.requires_grad = True\n",
        "    scores = model(x)\n",
        "    loss = criterion(scores, y)\n",
        "    loss.backward()\n",
        "    x_grad = x.grad.sign()\n",
        "    x_adversarial = x + epsilon * x_grad\n",
        "    x_adversarial = torch.clamp(x_adversarial, 0, 1)\n",
        "\n",
        "    return x_adversarial.detach()\n"
      ],
      "execution_count": 6,
      "outputs": []
    },
    {
      "cell_type": "markdown",
      "metadata": {
        "id": "RNpI3oUoO1wE"
      },
      "source": [
        "## 1.3: Adversarial sample set (7 Points)\n",
        "\n",
        "* Please generate a dataset containing at least 1,000 adversarial examples using FGSM.\n",
        "\n",
        "* Please vary the perturbation budget (3 variants) and generate 1,000 adversarial examples for each. \n",
        "    * **Hint**: you can choose epsilons within, e.g., = [.05, .1, .15, .2, .25, .3],  using MNIST pixel values in the interval       [0, 1]\n",
        "\n",
        "* Compute the accuracy of each attack set. "
      ]
    },
    {
      "cell_type": "code",
      "metadata": {
        "colab": {
          "base_uri": "https://localhost:8080/"
        },
        "id": "EvYpo9p2O1wF",
        "outputId": "d5d5c738-ab09-49db-948f-bb0959e09463"
      },
      "source": [
        "epsilons = [0.1, 0.2, 0.3]\n",
        "\n",
        "# generates 16 batches of 64 adv. images\n",
        "def gen_1000_samples(model, epsilons):\n",
        "    samples = [[] for _ in range(len(epsilons))]\n",
        "    labels = []\n",
        "    orig = []\n",
        "    for i in range(16):\n",
        "        x, y = next(iter(train_loader))\n",
        "        for idx, e in enumerate(epsilons):\n",
        "            x_ad = fgsm(model, x, y, e)\n",
        "            samples[idx].append(x_ad)\n",
        "        labels.append(y)\n",
        "        orig.append(x)\n",
        "    return orig, samples, labels\n",
        "\n",
        "def get_predictions(model, samples):\n",
        "    preds = []\n",
        "    for i in range(len(samples)):\n",
        "        x = samples[i]\n",
        "        x = x.reshape(x.shape[0], -1)\n",
        "        scores = model(x)\n",
        "        _, predictions = scores.max(1)\n",
        "        preds.append(predictions)\n",
        "    return preds\n",
        "\n",
        "def check_accuracy_from_xy(x, y, model):\n",
        "    num_correct = 0\n",
        "    num_samples = 0\n",
        "    # model.eval()\n",
        "\n",
        "    with torch.no_grad():\n",
        "        assert len(x) == len(y)\n",
        "        for i in range(len(x)):\n",
        "            scores = model(x[i])\n",
        "            _, predictions = scores.max(1)\n",
        "            num_correct += (predictions == y[i]).sum()\n",
        "            num_samples += predictions.size(0)\n",
        "        print(f'Got {num_correct} / {num_samples} with accuracy {float(num_correct) / float(num_samples) * 100}')\n",
        "    # model.train()\n",
        "    return (float(num_correct)/float(num_samples)*100)\n",
        "\n",
        "orig, samples, labels = gen_1000_samples(initialmodel, epsilons)\n",
        "\n",
        "for i, e in enumerate(epsilons):\n",
        "    print(\"Checking accuracy for epsilon=\" + str(e))\n",
        "    check_accuracy_from_xy(samples[i], labels, initialmodel)\n",
        "    print(\"\")\n"
      ],
      "execution_count": 7,
      "outputs": [
        {
          "output_type": "stream",
          "name": "stdout",
          "text": [
            "Checking accuracy for epsilon=0.1\n",
            "Got 306 / 1024 with accuracy 29.8828125\n",
            "\n",
            "Checking accuracy for epsilon=0.2\n",
            "Got 76 / 1024 with accuracy 7.421875\n",
            "\n",
            "Checking accuracy for epsilon=0.3\n",
            "Got 29 / 1024 with accuracy 2.83203125\n",
            "\n"
          ]
        }
      ]
    },
    {
      "cell_type": "markdown",
      "metadata": {
        "id": "Ex3qQp3JolD1"
      },
      "source": [
        "## 1.4: Visualizing the results (7 Points)\n",
        "\n",
        "* Please chose one sample for each class (for example the first when iterating the test data) and plot the (ten) adversarial examples as well as the predicted label (before and after the attack)\n",
        "\n",
        "* Please repeat the visualization for the three sets you have created "
      ]
    },
    {
      "cell_type": "code",
      "metadata": {
        "colab": {
          "base_uri": "https://localhost:8080/",
          "height": 703
        },
        "id": "eGkp0B0PO1wJ",
        "outputId": "191fccf3-83b9-4545-a60f-43444d1108ab"
      },
      "source": [
        "def showPics(model):\n",
        "  # (each column corresponds to one attack method)\n",
        "  col_titles = ['Label', 'Ori', 'Pred Ori', 'FGSM, e=0.1', 'Pred 0.1', 'FGSM, e=0.2', 'Pred 0.2', 'FGSM, e=0.3' ,'Pred 0.3']\n",
        "  nsamples = 10\n",
        "  nrows = nsamples\n",
        "  ncols = len(col_titles)\n",
        "\n",
        "  _, axes = plt.subplots(nrows,ncols,figsize=(18,12))  # create the figure with subplots\n",
        "  [ax.set_axis_off() for ax in axes.ravel()]  # remove the axis\n",
        "\n",
        "  for ax, col in zip(axes[0], col_titles): # set up the title for each column\n",
        "      ax.set_title(col,fontdict={'fontsize':18,'color':'b'})\n",
        "\n",
        "  preds_0 = get_predictions(model, orig)\n",
        "  preds_1 = get_predictions(model, samples[0])\n",
        "  preds_2 = get_predictions(model, samples[1])\n",
        "  preds_3 = get_predictions(model, samples[2])\n",
        "  for i in range(nsamples):\n",
        "      axes[i,0].text(0.5, 0.5, int(labels[0][i]), fontsize=18, ha='center', va='center')\n",
        "      axes[i,1].imshow(orig[0][i].reshape(28,28))\n",
        "      axes[i,2].text(0.5, 0.5, int(preds_0[0][i]), fontsize=18, ha='center', va='center')\n",
        "      axes[i,3].imshow(samples[0][0][i].reshape(28,28))\n",
        "      axes[i,4].text(0.5, 0.5, int(preds_1[0][i]), fontsize=18, ha='center', va='center')\n",
        "      axes[i,5].imshow(samples[1][0][i].reshape(28,28))\n",
        "      axes[i,6].text(0.5, 0.5, int(preds_2[0][i]), fontsize=18, ha='center', va='center')\n",
        "      axes[i,7].imshow(samples[2][0][i].reshape(28,28))\n",
        "      axes[i,8].text(0.5, 0.5, int(preds_3[0][i]), fontsize=18, ha='center', va='center')\n",
        "\n",
        "showPics(initialmodel)"
      ],
      "execution_count": 8,
      "outputs": [
        {
          "output_type": "display_data",
          "data": {
            "image/png": "[encoded data removed]",
            "text/plain": [
              "<Figure size 1296x864 with 90 Axes>"
            ]
          },
          "metadata": {
            "needs_background": "light"
          }
        }
      ]
    },
    {
      "cell_type": "markdown",
      "metadata": {
        "id": "c1FneBwpSBk2"
      },
      "source": [
        "## 1.5: Analyzing the results (5 Points)\n",
        "\n",
        "Please write a brief summary of your findings.  \n",
        "\n",
        "* Does the attack always succeed (the model makes wrong prediction on the adversarial sample)? What is the relationship between the attack success rate and the perturbation budget?\n",
        "* How about the computation cost of the attack? (you can report the time in second) \n",
        "* Does the attack require white-box access to the model?\n",
        "* Feel free to report your results via tables or figures, and mention any other interesting observations"
      ]
    },
    {
      "cell_type": "markdown",
      "metadata": {
        "id": "618ALjmVSBk8"
      },
      "source": [
        "Answers:\n",
        "* The attack doesn't alway succed, but a higher pertubation budget results in a lower success rate; but even with a pertubationb budget of 0.1, the success rate is below 30%; when increasing the pertubation budget all the way to 0.3, the success rate drops down to 2.5%.\n",
        "* The computation cost is really low, all 3000 samples are generated within 0.3 seconds\n",
        "* The attack does need white box access to calculate the gradient"
      ]
    },
    {
      "cell_type": "markdown",
      "metadata": {
        "id": "KJUmrv5Bymij"
      },
      "source": [
        "# 2. Defending an ML model (35 points) \n",
        "\n",
        "So far, we have focused on attacking an ML model. In this section, we want you to defend your model. \n"
      ]
    },
    {
      "cell_type": "markdown",
      "metadata": {
        "id": "0gHUFK6Mymik"
      },
      "source": [
        "## 2.1: Implementing the adversarial training defense (20 Points)\n",
        "\n",
        "* We would like to ask you to implement the adversarial training defense (https://arxiv.org/pdf/1412.6572.pdf) mentioned in the lecture. \n",
        "\n",
        "* You can use the **FGSM adversarial training** method (i.e., train on FGSM examples). \n",
        "\n",
        "* You can also check the adversarial training implementation in other papers, e.g., http://proceedings.mlr.press/v97/pang19a/pang19a.pdf \n",
        "\n",
        "* Choose a certain **maximum perturbation budget** during training that is in the middle of the range you have experimented with before. \n",
        "\n",
        "* We do not require the defense to work perfectly - but what we want you to understand is why it works or why it does not work.\n",
        "\n",
        "**Hint:** You can save the checkpoint of the defended model as we would need it to for the third part of this exercise.\n"
      ]
    },
    {
      "cell_type": "code",
      "metadata": {
        "colab": {
          "base_uri": "https://localhost:8080/"
        },
        "id": "DD0UalSeymim",
        "outputId": "6bf875f5-ba89-43c7-cc58-c19701f2b9cc"
      },
      "source": [
        "#\n",
        "#\n",
        "# ------- Your Code -------\n",
        "#\n",
        "#\n",
        "\n",
        "losses = []\n",
        "accuracytest = []\n",
        "accuracytrain = []\n",
        "runtime = []\n",
        "models = []\n",
        "\n",
        "\n",
        "start = timeit.default_timer()\n",
        "print(f'ep{10} start')\n",
        "(orgmodel, avgloss) = newModel(10)\n",
        "models.append(orgmodel)\n",
        "losses.append(avgloss)\n",
        "accuracytrain.append(check_accuracy(train_loader, orgmodel))\n",
        "accuracytest.append(check_accuracy(test_loader, orgmodel))\n",
        "stop = timeit.default_timer()\n",
        "runtime.append(stop-start)\n",
        "\n",
        "\n",
        "print(f'[+] final Model done, with following stats: \\nepochs {epochs}, \\nlosses {losses}, \\nacctrain {accuracytrain}, \\nacctest {accuracytest}, \\nruntime {runtime}')\n",
        "\n",
        "###\n",
        "#   implement the defence here\n",
        "#   we get the dataset from the previous attack on our original model\n",
        "#   using this dataset we train our new model, which should now be resistant to this type of attack\n",
        "#   (only resistant to one specific epsilon, others are still vulnerable)\n",
        "###\n",
        "\n",
        "def newDefModel (numepoch):\n",
        "\n",
        "    num_epochs = numepoch\n",
        "\n",
        "    # Initialize network\n",
        "    model = NN(input_size, num_classes)\n",
        "\n",
        "    # Loss and optimizer\n",
        "    criterion = nn.CrossEntropyLoss()\n",
        "    optimizer = optim.Adam(model.parameters(), lr=learning_rate)\n",
        "\n",
        "    averageloss = 0\n",
        "    counter = 0\n",
        "    # Train Network\n",
        "    for epoch in range(num_epochs):\n",
        "        # Train Network with original data\n",
        "        for batch_idx, (data, targets) in enumerate(train_loader):\n",
        "            data = data.reshape(data.shape[0], -1)\n",
        "            scores = model(data)\n",
        "            loss = criterion(scores, targets)\n",
        "            averageloss += loss\n",
        "            counter += 1\n",
        "\n",
        "            optimizer.zero_grad()\n",
        "            loss.backward()\n",
        "\n",
        "            optimizer.step()\n",
        "\n",
        "        # Train Network with the altered samples\n",
        "        for id_sample, data in enumerate(samples[1]):\n",
        "            #print(f'for altered samples: {id_sample}')\n",
        "            data = data.reshape(data.shape[0], -1)\n",
        "            scores = model(data)\n",
        "            loss = criterion(scores, labels[id_sample])\n",
        "            averageloss += loss\n",
        "            counter += 1\n",
        "\n",
        "            optimizer.zero_grad()\n",
        "            loss.backward()\n",
        "\n",
        "            optimizer.step()\n",
        "\n",
        "    #print(f'averageloss in total: {averageloss/counter}')\n",
        "    return (model, float(averageloss/counter))\n",
        "\n",
        "start = timeit.default_timer()\n",
        "#print(f'start training new model')\n",
        "(resultmodel, avgloss) = newDefModel(10)\n",
        "models.append(resultmodel)\n",
        "losses.append(avgloss)\n",
        "accuracytrain.append(check_accuracy(train_loader, resultmodel))\n",
        "accuracytest.append(check_accuracy(test_loader, resultmodel))\n",
        "stop = timeit.default_timer()\n",
        "runtime.append(stop-start)\n",
        "\n",
        "print(f'[+] final Model done, with following stats \\n   (org model / defending model): \\nepochs {epochs}, \\nlosses {losses}, \\nacctrain {accuracytrain}, \\nacctest {accuracytest}, \\nruntime {runtime}')"
      ],
      "execution_count": 9,
      "outputs": [
        {
          "output_type": "stream",
          "name": "stdout",
          "text": [
            "ep10 start\n",
            "[+] final Model done, with following stats: \n",
            "epochs 10, \n",
            "losses [0.06304939836263657], \n",
            "acctrain [99.43833333333333], \n",
            "acctest [97.71], \n",
            "runtime [120.69461338799994]\n",
            "[+] final Model done, with following stats \n",
            "   (org model / defending model): \n",
            "epochs 10, \n",
            "losses [0.06304939836263657, 0.07034245878458023], \n",
            "acctrain [99.43833333333333, 99.01333333333334], \n",
            "acctest [97.71, 97.6], \n",
            "runtime [120.69461338799994, 118.52541875999998]\n"
          ]
        }
      ]
    },
    {
      "cell_type": "markdown",
      "metadata": {
        "id": "V9UPGu8OSBlJ"
      },
      "source": [
        "## 2.2: Evaluation (10 Points)\n",
        "\n",
        "* Craft adversarial examples using the **defended** model. This entails at least 1,000 examples crafted via FGSM. \n",
        "    * Create one set using a budget that is **less than (within)** the one used in training.\n",
        "    * Create another set using a budget that is **higher than** the one used in training. \n",
        "    * You can use two values of epsilons from question 1.3 \n",
        "    \n",
        "* Evaluate the **defended** model on these two adversarial examples sets. \n"
      ]
    },
    {
      "cell_type": "code",
      "metadata": {
        "id": "ctfwQKTnSBlK",
        "colab": {
          "base_uri": "https://localhost:8080/"
        },
        "outputId": "d553036a-fa9c-4a01-8166-3332c504b172"
      },
      "source": [
        "print(f'Accuracy original model:')\n",
        "for i, e in enumerate(epsilons):\n",
        "    print(\"Checking accuracy for epsilon=\" + str(e))\n",
        "    check_accuracy_from_xy(samples[i], labels, orgmodel)\n",
        "    print(\"\")\n",
        "\n",
        "#print(f'Acuracy defended model:')\n",
        "#for i, e in enumerate(epsilons):\n",
        "#    print(\"Checking accuracy for epsilon=\" + str(e))\n",
        "#    check_accuracy_from_xy(samples[i], labels, resultmodel)\n",
        "#    print(\"\")\n",
        "\n",
        "\n",
        "print(f'Checking accuracy for epsilon lower than the trained one:')\n",
        "check_accuracy_from_xy(samples[0], labels, resultmodel)\n",
        "print(\"\")\n",
        "\n",
        "print(f'Checking accuracy for epsilon that was used to train:')\n",
        "check_accuracy_from_xy(samples[1], labels, resultmodel)\n",
        "print(\"\")\n",
        "\n",
        "print(f'Checking acuracy for epsilon higher than the trained one:')\n",
        "check_accuracy_from_xy(samples[2], labels, resultmodel)\n",
        "print(\"\")"
      ],
      "execution_count": 11,
      "outputs": [
        {
          "output_type": "stream",
          "name": "stdout",
          "text": [
            "Accuracy original model:\n",
            "Checking accuracy for epsilon=0.1\n",
            "Got 421 / 1024 with accuracy 41.11328125\n",
            "\n",
            "Checking accuracy for epsilon=0.2\n",
            "Got 125 / 1024 with accuracy 12.20703125\n",
            "\n",
            "Checking accuracy for epsilon=0.3\n",
            "Got 39 / 1024 with accuracy 3.80859375\n",
            "\n",
            "Checking accuracy for epsilon lower than the trained one:\n",
            "Got 1009 / 1024 with accuracy 98.53515625\n",
            "\n",
            "Checking accuracy for epsilon that was used to train:\n",
            "Got 1018 / 1024 with accuracy 99.4140625\n",
            "\n",
            "Checking acuracy for epsilon higher than the trained one:\n",
            "Got 948 / 1024 with accuracy 92.578125\n",
            "\n"
          ]
        }
      ]
    },
    {
      "cell_type": "markdown",
      "metadata": {
        "id": "PPV7JAidSBlK"
      },
      "source": [
        "## 2.3 Discussion (5 points)\n",
        "\n",
        "* How successful was the defense against the attack compared to the undefended model? How do you interpret the difference?\n",
        "* How did the two sets differ?"
      ]
    },
    {
      "cell_type": "markdown",
      "metadata": {
        "id": "mxk-m-HQSBlL"
      },
      "source": [
        "**Your answers go here**\n",
        "\n",
        "\n",
        "\n",
        "*   The defended model has a higher succesrate in regards to the manipulated samples. With a higher epsilon, the successrate went lower. While for epsilon=0,1 the model still had a successrate of 41%, it went down to 3%. Looking at the defended model, which was trained with the samples of epsilon=0,2, the accuracy for all the tested epsilons went up. Not as much as for the sample version we trained the model with, but we still got 98 and 92% accuracy for epsilons=0,1 and 0,3.\\\n",
        "Less manipulated samples are also covered by a model trained with more manipulated samples. The more the samples are manipulated, the more they look like samples from the original data. Therefore it is easier to deceive the model, which results in a lower accuracy for a model trained with a less manipulated sample.\n",
        "*   One set was created using epsilon=0,1 the others with 0,2 and 0,3.\n",
        "The one we used to train the defended model, used epsilon=0,2. \n",
        "\n"
      ]
    },
    {
      "cell_type": "markdown",
      "metadata": {
        "id": "X_cxgnKESBlM"
      },
      "source": [
        "# 3: I-FGSM attack (35 points) \n",
        "\n",
        "* FGSM is one of the simplest and earliest attacks. Since then, many more advanced attacks have been proposed. \n",
        "* One of them is the Iterative-FGSM (https://arxiv.org/pdf/1607.02533.pdf), where the attack is repeated multiple times.\n",
        "* In this part, we ask you to please implement the iterative FGSM attack. \n",
        "\n"
      ]
    },
    {
      "cell_type": "markdown",
      "metadata": {
        "id": "X9qJlcGgSBlM"
      },
      "source": [
        "## 3.1: Implementing the I-FGSM attack (10 Points)\n",
        "\n",
        "**Hints**: \n",
        "\n",
        "* Your code should have an attack loop. At each step, the FGSM attack that you have implemented before is computed using a small step.\n",
        "* After each step, you should perform a per-pixel clipping to make sure the image is in the allowed range, and that the perturbation is within budget.\n"
      ]
    },
    {
      "cell_type": "code",
      "metadata": {
        "id": "SwShznT0SBlN"
      },
      "source": [
        "# budget: max eps?\n",
        "# in paper there is a min of interation.\n",
        "def ifgsm(model, x, y, eps, alpha, budget):\n",
        "  #number_of_iteratives = int(min(eps + 4, 1.25 * eps))# from paper. in 3.2 seems not to be use \n",
        "  number_of_iteratives = int(budget / alpha)\n",
        "  x_adv = x\n",
        "  for i in range(number_of_iteratives):\n",
        "    if inBudget(budget):\n",
        "      budget -=alpha\n",
        "      x_adv = fgsm(model, x_adv, y, alpha) # fgsm() is checking the allowed range\n",
        "    else:\n",
        "      return x_adv\n",
        "  return x_adv\n",
        "\n",
        "#  perturbation in budget\n",
        "def inBudget(budget):\n",
        "  if budget > 0:\n",
        "    return True\n",
        "  else:\n",
        "    print('max budget is reached')\n",
        "    return False     "
      ],
      "execution_count": null,
      "outputs": []
    },
    {
      "cell_type": "markdown",
      "metadata": {
        "id": "61bZfPixSBlP"
      },
      "source": [
        "## 3.2: Attack the undefended model (5 Points)\n",
        "\n",
        "* We will first attack the **undefended model** (i.e., without adversarial training).\n",
        "\n",
        "* Choose one perturbation budget from Question **1.3** for comparison. \n",
        "\n",
        "    * Hint: A simple way to choose the small step is to divide the total budget by the number of steps (e.g., 10).\n",
        "\n",
        "* Please generate 1000 adversarial examples using the **undefended** model and the **I-FGSM** you implemented. \n",
        "\n",
        "* Please compute the accuracy of the adversarial set on the **undefended** model. "
      ]
    },
    {
      "cell_type": "code",
      "metadata": {
        "id": "YLz99EjqSBlR",
        "colab": {
          "base_uri": "https://localhost:8080/"
        },
        "outputId": "2652d86a-180a-4f86-ad70-0fd64e3e41d0"
      },
      "source": [
        "# generates 16 batches of 64 adv. images\n",
        "def gen_1000_samples_ifgsm(model, epsilons, alpha, budget):\n",
        "    samples = []\n",
        "    labels = []\n",
        "    orig = []\n",
        "    for i in range(16):\n",
        "        x, y = next(iter(train_loader))\n",
        "        x_ad = ifgsm(model, x, y, epsilons, alpha, budget)\n",
        "        samples.append(x_ad)\n",
        "        labels.append(y)\n",
        "        orig.append(x)\n",
        "    return orig, samples, labels\n",
        "\n",
        "orig_ifgsm, samples_ifgsm, labels_ifgsm = gen_1000_samples_ifgsm(orgmodel, 2, 0.2, 0.2)\n",
        "\n",
        "print(len(samples_ifgsm), len(labels_ifgsm))\n",
        "print(len(samples[1]), len(labels))\n",
        "standard_accuracy = check_accuracy_from_xy(samples[1], labels, orgmodel)\n",
        "print(standard_accuracy)\n",
        "accuracy_ifgsm = check_accuracy_from_xy(samples_ifgsm, labels_ifgsm, orgmodel)\n",
        "print(accuracy_ifgsm)"
      ],
      "execution_count": null,
      "outputs": [
        {
          "output_type": "stream",
          "name": "stdout",
          "text": [
            "16 16\n",
            "16 16\n",
            "Got 127 / 1024 with accuracy 12.40234375\n",
            "12.40234375\n",
            "Got 89 / 1024 with accuracy 8.69140625\n",
            "8.69140625\n"
          ]
        }
      ]
    },
    {
      "cell_type": "markdown",
      "metadata": {
        "id": "yX0FfdjhSBlS"
      },
      "source": [
        "### 3.2.1: Findings and comparison with FGSM (8 points)\n",
        "\n",
        "* Please report your findings. How successful was the attack? \n",
        "\n",
        "* What do you expect when increasing the number of steps? (you can experiment with different parameters of the attack and report your findings) \n",
        "\n",
        "* Compare with the basic FGSM. Using the same perturbation budget and using the same model, which attack is more successful? Why do you think this is the case? What about the computation time?\n",
        "\n",
        "* Feel free to report any interesting observations. "
      ]
    },
    {
      "cell_type": "markdown",
      "metadata": {
        "id": "Q3NH5lQYSBlS"
      },
      "source": [
        "**Your answers go here**"
      ]
    },
    {
      "cell_type": "markdown",
      "metadata": {
        "id": "dV5jo0kOSBlS"
      },
      "source": [
        "## 3.3: Attack the defended model (5 poinst) \n",
        "\n",
        "* In the previous question, we attacked the **undefended model**. \n",
        "\n",
        "* Now, we want to explore how successful the previous implemented defense (FGSM adversarial training) is againts this new attack. (we will not implement a new defense here, we will be reusing your previous checkpoint of the **defended model**)\n",
        "\n",
        "\n",
        "* Use the **defended model** to create one set of adversarial examples. Use a perturbation budget from Question **2.2** for comparison.  "
      ]
    },
    {
      "cell_type": "code",
      "metadata": {
        "id": "JGDa50mFSBlT",
        "colab": {
          "base_uri": "https://localhost:8080/",
          "height": 334
        },
        "outputId": "203e324a-9525-490a-c5dc-b237cce49277"
      },
      "source": [
        "orig, samples, labels = gen_1000_samples_ifgsm(resultmodel, 2, 0.2, 0.2)\n",
        "\n",
        "print(len(samples), len(labels))\n",
        "accuracy = check_accuracy_from_xy(samples, labels, resultmodel)\n",
        "print(accuracy)\n",
        "plt.imshow(samples[0][0].reshape(28,28))\n",
        "plt.show()"
      ],
      "execution_count": null,
      "outputs": [
        {
          "output_type": "stream",
          "name": "stdout",
          "text": [
            "16 16\n",
            "Got 59 / 1024 with accuracy 5.76171875\n",
            "5.76171875\n"
          ]
        },
        {
          "output_type": "display_data",
          "data": {
            "text/plain": [
              "<Figure size 720x576 with 1 Axes>"
            ],
            "image/svg+xml": "<?xml version=\"1.0\" encoding=\"utf-8\" standalone=\"no\"?>\n<!DOCTYPE svg PUBLIC \"-//W3C//DTD SVG 1.1//EN\"\n  \"http://www.w3.org/Graphics/SVG/1.1/DTD/svg11.dtd\">\n<svg height=\"465.958125pt\" version=\"1.1\" viewBox=\"0 0 469.005 465.958125\" width=\"469.005pt\" xmlns=\"http://www.w3.org/2000/svg\" xmlns:xlink=\"http://www.w3.org/1999/xlink\">\n <metadata>\n  <rdf:RDF xmlns:cc=\"http://creativecommons.org/ns#\" xmlns:dc=\"http://purl.org/dc/elements/1.1/\" xmlns:rdf=\"http://www.w3.org/1999/02/22-rdf-syntax-ns#\">\n   <cc:Work>\n    <dc:type rdf:resource=\"http://purl.org/dc/dcmitype/StillImage\"/>\n    <dc:date>2021-11-24T15:08:57.868659</dc:date>\n    <dc:format>image/svg+xml</dc:format>\n    <dc:creator>\n     <cc:Agent>\n      <dc:title>Matplotlib v3.4.3, https://matplotlib.org/</dc:title>\n     </cc:Agent>\n    </dc:creator>\n   </cc:Work>\n  </rdf:RDF>\n </metadata>\n <defs>\n  <style type=\"text/css\">*{stroke-linecap:butt;stroke-linejoin:round;}</style>\n </defs>\n <g id=\"figure_1\">\n  <g id=\"patch_1\">\n   <path d=\"M 0 465.958125 \nL 469.005 465.958125 \nL 469.005 0 \nL 0 0 \nz\n\" style=\"fill:none;\"/>\n  </g>\n  <g id=\"axes_1\">\n   <g id=\"patch_2\">\n    <path d=\"M 26.925 442.08 \nL 461.805 442.08 \nL 461.805 7.2 \nL 26.925 7.2 \nz\n\" style=\"fill:#ffffff;\"/>\n   </g>\n   <g clip-path=\"url(#p249d24d78f)\">\n    <image height=\"435\" id=\"imagee7dd06b62f\" transform=\"scale(1 -1)translate(0 -435)\" width=\"435\" x=\"26.925\" xlink:href=\"data:image/png;base64,\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\" y=\"-7.08\"/>\n   </g>\n   <g id=\"matplotlib.axis_1\">\n    <g id=\"xtick_1\">\n     <g id=\"line2d_1\">\n      <defs>\n       <path d=\"M 0 0 \nL 0 3.5 \n\" id=\"m2b39017b0b\" style=\"stroke:#000000;stroke-width:0.8;\"/>\n      </defs>\n      <g>\n       <use style=\"stroke:#000000;stroke-width:0.8;\" x=\"34.690714\" xlink:href=\"#m2b39017b0b\" y=\"442.08\"/>\n      </g>\n     </g>\n     <g id=\"text_1\">\n      <!-- 0 -->\n      <g transform=\"translate(31.509464 456.678437)scale(0.1 -0.1)\">\n       <defs>\n        <path d=\"M 2034 4250 \nQ 1547 4250 1301 3770 \nQ 1056 3291 1056 2328 \nQ 1056 1369 1301 889 \nQ 1547 409 2034 409 \nQ 2525 409 2770 889 \nQ 3016 1369 3016 2328 \nQ 3016 3291 2770 3770 \nQ 2525 4250 2034 4250 \nz\nM 2034 4750 \nQ 2819 4750 3233 4129 \nQ 3647 3509 3647 2328 \nQ 3647 1150 3233 529 \nQ 2819 -91 2034 -91 \nQ 1250 -91 836 529 \nQ 422 1150 422 2328 \nQ 422 3509 836 4129 \nQ 1250 4750 2034 4750 \nz\n\" id=\"DejaVuSans-30\" transform=\"scale(0.015625)\"/>\n       </defs>\n       <use xlink:href=\"#DejaVuSans-30\"/>\n      </g>\n     </g>\n    </g>\n    <g id=\"xtick_2\">\n     <g id=\"line2d_2\">\n      <g>\n       <use style=\"stroke:#000000;stroke-width:0.8;\" x=\"112.347857\" xlink:href=\"#m2b39017b0b\" y=\"442.08\"/>\n      </g>\n     </g>\n     <g id=\"text_2\">\n      <!-- 5 -->\n      <g transform=\"translate(109.166607 456.678437)scale(0.1 -0.1)\">\n       <defs>\n        <path d=\"M 691 4666 \nL 3169 4666 \nL 3169 4134 \nL 1269 4134 \nL 1269 2991 \nQ 1406 3038 1543 3061 \nQ 1681 3084 1819 3084 \nQ 2600 3084 3056 2656 \nQ 3513 2228 3513 1497 \nQ 3513 744 3044 326 \nQ 2575 -91 1722 -91 \nQ 1428 -91 1123 -41 \nQ 819 9 494 109 \nL 494 744 \nQ 775 591 1075 516 \nQ 1375 441 1709 441 \nQ 2250 441 2565 725 \nQ 2881 1009 2881 1497 \nQ 2881 1984 2565 2268 \nQ 2250 2553 1709 2553 \nQ 1456 2553 1204 2497 \nQ 953 2441 691 2322 \nL 691 4666 \nz\n\" id=\"DejaVuSans-35\" transform=\"scale(0.015625)\"/>\n       </defs>\n       <use xlink:href=\"#DejaVuSans-35\"/>\n      </g>\n     </g>\n    </g>\n    <g id=\"xtick_3\">\n     <g id=\"line2d_3\">\n      <g>\n       <use style=\"stroke:#000000;stroke-width:0.8;\" x=\"190.005\" xlink:href=\"#m2b39017b0b\" y=\"442.08\"/>\n      </g>\n     </g>\n     <g id=\"text_3\">\n      <!-- 10 -->\n      <g transform=\"translate(183.6425 456.678437)scale(0.1 -0.1)\">\n       <defs>\n        <path d=\"M 794 531 \nL 1825 531 \nL 1825 4091 \nL 703 3866 \nL 703 4441 \nL 1819 4666 \nL 2450 4666 \nL 2450 531 \nL 3481 531 \nL 3481 0 \nL 794 0 \nL 794 531 \nz\n\" id=\"DejaVuSans-31\" transform=\"scale(0.015625)\"/>\n       </defs>\n       <use xlink:href=\"#DejaVuSans-31\"/>\n       <use x=\"63.623047\" xlink:href=\"#DejaVuSans-30\"/>\n      </g>\n     </g>\n    </g>\n    <g id=\"xtick_4\">\n     <g id=\"line2d_4\">\n      <g>\n       <use style=\"stroke:#000000;stroke-width:0.8;\" x=\"267.662143\" xlink:href=\"#m2b39017b0b\" y=\"442.08\"/>\n      </g>\n     </g>\n     <g id=\"text_4\">\n      <!-- 15 -->\n      <g transform=\"translate(261.299643 456.678437)scale(0.1 -0.1)\">\n       <use xlink:href=\"#DejaVuSans-31\"/>\n       <use x=\"63.623047\" xlink:href=\"#DejaVuSans-35\"/>\n      </g>\n     </g>\n    </g>\n    <g id=\"xtick_5\">\n     <g id=\"line2d_5\">\n      <g>\n       <use style=\"stroke:#000000;stroke-width:0.8;\" x=\"345.319286\" xlink:href=\"#m2b39017b0b\" y=\"442.08\"/>\n      </g>\n     </g>\n     <g id=\"text_5\">\n      <!-- 20 -->\n      <g transform=\"translate(338.956786 456.678437)scale(0.1 -0.1)\">\n       <defs>\n        <path d=\"M 1228 531 \nL 3431 531 \nL 3431 0 \nL 469 0 \nL 469 531 \nQ 828 903 1448 1529 \nQ 2069 2156 2228 2338 \nQ 2531 2678 2651 2914 \nQ 2772 3150 2772 3378 \nQ 2772 3750 2511 3984 \nQ 2250 4219 1831 4219 \nQ 1534 4219 1204 4116 \nQ 875 4013 500 3803 \nL 500 4441 \nQ 881 4594 1212 4672 \nQ 1544 4750 1819 4750 \nQ 2544 4750 2975 4387 \nQ 3406 4025 3406 3419 \nQ 3406 3131 3298 2873 \nQ 3191 2616 2906 2266 \nQ 2828 2175 2409 1742 \nQ 1991 1309 1228 531 \nz\n\" id=\"DejaVuSans-32\" transform=\"scale(0.015625)\"/>\n       </defs>\n       <use xlink:href=\"#DejaVuSans-32\"/>\n       <use x=\"63.623047\" xlink:href=\"#DejaVuSans-30\"/>\n      </g>\n     </g>\n    </g>\n    <g id=\"xtick_6\">\n     <g id=\"line2d_6\">\n      <g>\n       <use style=\"stroke:#000000;stroke-width:0.8;\" x=\"422.976429\" xlink:href=\"#m2b39017b0b\" y=\"442.08\"/>\n      </g>\n     </g>\n     <g id=\"text_6\">\n      <!-- 25 -->\n      <g transform=\"translate(416.613929 456.678437)scale(0.1 -0.1)\">\n       <use xlink:href=\"#DejaVuSans-32\"/>\n       <use x=\"63.623047\" xlink:href=\"#DejaVuSans-35\"/>\n      </g>\n     </g>\n    </g>\n   </g>\n   <g id=\"matplotlib.axis_2\">\n    <g id=\"ytick_1\">\n     <g id=\"line2d_7\">\n      <defs>\n       <path d=\"M 0 0 \nL -3.5 0 \n\" id=\"mb62471e551\" style=\"stroke:#000000;stroke-width:0.8;\"/>\n      </defs>\n      <g>\n       <use style=\"stroke:#000000;stroke-width:0.8;\" x=\"26.925\" xlink:href=\"#mb62471e551\" y=\"14.965714\"/>\n      </g>\n     </g>\n     <g id=\"text_7\">\n      <!-- 0 -->\n      <g transform=\"translate(13.5625 18.764933)scale(0.1 -0.1)\">\n       <use xlink:href=\"#DejaVuSans-30\"/>\n      </g>\n     </g>\n    </g>\n    <g id=\"ytick_2\">\n     <g id=\"line2d_8\">\n      <g>\n       <use style=\"stroke:#000000;stroke-width:0.8;\" x=\"26.925\" xlink:href=\"#mb62471e551\" y=\"92.622857\"/>\n      </g>\n     </g>\n     <g id=\"text_8\">\n      <!-- 5 -->\n      <g transform=\"translate(13.5625 96.422076)scale(0.1 -0.1)\">\n       <use xlink:href=\"#DejaVuSans-35\"/>\n      </g>\n     </g>\n    </g>\n    <g id=\"ytick_3\">\n     <g id=\"line2d_9\">\n      <g>\n       <use style=\"stroke:#000000;stroke-width:0.8;\" x=\"26.925\" xlink:href=\"#mb62471e551\" y=\"170.28\"/>\n      </g>\n     </g>\n     <g id=\"text_9\">\n      <!-- 10 -->\n      <g transform=\"translate(7.2 174.079219)scale(0.1 -0.1)\">\n       <use xlink:href=\"#DejaVuSans-31\"/>\n       <use x=\"63.623047\" xlink:href=\"#DejaVuSans-30\"/>\n      </g>\n     </g>\n    </g>\n    <g id=\"ytick_4\">\n     <g id=\"line2d_10\">\n      <g>\n       <use style=\"stroke:#000000;stroke-width:0.8;\" x=\"26.925\" xlink:href=\"#mb62471e551\" y=\"247.937143\"/>\n      </g>\n     </g>\n     <g id=\"text_10\">\n      <!-- 15 -->\n      <g transform=\"translate(7.2 251.736362)scale(0.1 -0.1)\">\n       <use xlink:href=\"#DejaVuSans-31\"/>\n       <use x=\"63.623047\" xlink:href=\"#DejaVuSans-35\"/>\n      </g>\n     </g>\n    </g>\n    <g id=\"ytick_5\">\n     <g id=\"line2d_11\">\n      <g>\n       <use style=\"stroke:#000000;stroke-width:0.8;\" x=\"26.925\" xlink:href=\"#mb62471e551\" y=\"325.594286\"/>\n      </g>\n     </g>\n     <g id=\"text_11\">\n      <!-- 20 -->\n      <g transform=\"translate(7.2 329.393504)scale(0.1 -0.1)\">\n       <use xlink:href=\"#DejaVuSans-32\"/>\n       <use x=\"63.623047\" xlink:href=\"#DejaVuSans-30\"/>\n      </g>\n     </g>\n    </g>\n    <g id=\"ytick_6\">\n     <g id=\"line2d_12\">\n      <g>\n       <use style=\"stroke:#000000;stroke-width:0.8;\" x=\"26.925\" xlink:href=\"#mb62471e551\" y=\"403.251429\"/>\n      </g>\n     </g>\n     <g id=\"text_12\">\n      <!-- 25 -->\n      <g transform=\"translate(7.2 407.050647)scale(0.1 -0.1)\">\n       <use xlink:href=\"#DejaVuSans-32\"/>\n       <use x=\"63.623047\" xlink:href=\"#DejaVuSans-35\"/>\n      </g>\n     </g>\n    </g>\n   </g>\n   <g id=\"patch_3\">\n    <path d=\"M 26.925 442.08 \nL 26.925 7.2 \n\" style=\"fill:none;stroke:#000000;stroke-linecap:square;stroke-linejoin:miter;stroke-width:0.8;\"/>\n   </g>\n   <g id=\"patch_4\">\n    <path d=\"M 461.805 442.08 \nL 461.805 7.2 \n\" style=\"fill:none;stroke:#000000;stroke-linecap:square;stroke-linejoin:miter;stroke-width:0.8;\"/>\n   </g>\n   <g id=\"patch_5\">\n    <path d=\"M 26.925 442.08 \nL 461.805 442.08 \n\" style=\"fill:none;stroke:#000000;stroke-linecap:square;stroke-linejoin:miter;stroke-width:0.8;\"/>\n   </g>\n   <g id=\"patch_6\">\n    <path d=\"M 26.925 7.2 \nL 461.805 7.2 \n\" style=\"fill:none;stroke:#000000;stroke-linecap:square;stroke-linejoin:miter;stroke-width:0.8;\"/>\n   </g>\n  </g>\n </g>\n <defs>\n  <clipPath id=\"p249d24d78f\">\n   <rect height=\"434.88\" width=\"434.88\" x=\"26.925\" y=\"7.2\"/>\n  </clipPath>\n </defs>\n</svg>\n",
            "image/png": "[encoded data removed]"
          },
          "metadata": {
            "needs_background": "light"
          }
        }
      ]
    },
    {
      "cell_type": "markdown",
      "metadata": {
        "id": "GbVMDbM9SBlT"
      },
      "source": [
        "### 3.3.1: Discussion (7 points) \n",
        "* Please report your results. How successful was the attack on the defended model? \n",
        "* Compare it with the success of the FGSM attack on the defended model. What do you observe? How do you interpret the difference? \n",
        "* How do you think you can improve the defense against I-FGSM attack?\n",
        "\n",
        "\n",
        "* Feel free to state any interesting findings you encountered during this project."
      ]
    },
    {
      "cell_type": "markdown",
      "metadata": {
        "id": "rjV_vSixSBlT"
      },
      "source": [
        "**Your answers go here**"
      ]
    }
  ]
}